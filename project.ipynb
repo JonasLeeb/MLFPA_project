{
 "cells": [
  {
   "cell_type": "markdown",
   "id": "e54f92ac",
   "metadata": {},
   "source": [
    "## Dataset"
   ]
  },
  {
   "cell_type": "code",
   "execution_count": null,
   "id": "2aff759d",
   "metadata": {},
   "outputs": [],
   "source": [
    "from datasets import load_dataset\n",
    "# Load the dataset\n",
    "ds = load_dataset(\"ccdv/arxiv-classification\", \"no_ref\")\n",
    "\n",
    "# Basic statistics\n",
    "print(\"Splits:\", ds.keys())\n",
    "print(\"Train size:\", len(ds[\"train\"]))\n",
    "print(\"Test size:\", len(ds[\"test\"]))\n",
    "print(\"Features:\", ds[\"train\"].features)\n",
    "print(\"Example record:\", ds[\"train\"][0])\n",
    "\n",
    "# Dictionary mapping from numeric labels to class names\n",
    "arxiv_subjects = {\n",
    "    '0': 'Commutative Algebra',\n",
    "    '1': 'Computer Vision',\n",
    "    '2': 'Artificial Intelligence',\n",
    "    '3': 'Systems and Control',\n",
    "    '4': 'Group Theory',\n",
    "    '5': 'Computational Engineering',\n",
    "    '6': 'Programming Languages',\n",
    "    '7': 'Information Theory',\n",
    "    '8': 'Data Structures',\n",
    "    '9': 'Neural and Evolutionary',\n",
    "    '10': 'Statistics Theory'\n",
    "}"
   ]
  },
  {
   "cell_type": "markdown",
   "id": "0c8e0d59",
   "metadata": {},
   "source": [
    "# Word2Vec vectors"
   ]
  },
  {
   "cell_type": "code",
   "execution_count": null,
   "id": "d1272dcb",
   "metadata": {},
   "outputs": [],
   "source": [
    "import gensim.downloader as api\n",
    "import logging\n",
    "\n",
    "# Set up logging to display information\n",
    "logging.basicConfig(level=logging.INFO)\n",
    "\n",
    "# Define the model name\n",
    "model_name = 'word2vec-google-news-300'\n",
    "\n",
    "# Attempt to load the model\n",
    "try:\n",
    "    print(f\"\\nAttempting to download '{model_name}' using gensim downloader...\")\n",
    "    # Load the model using gensim's downloader\n",
    "    wv = api.load(model_name)\n",
    "    print(\"\\nModel downloaded/loaded successfully!\")\n",
    "    print(f\"It is now cached in: {api.BASE_DIR}\")\n",
    "\n",
    "except Exception as e:\n",
    "    print(f\"\\nFailed to download or load using gensim downloader: {e}\")\n",
    "    wv = None  # Ensure wv is defined even if loading fails\n",
    "\n",
    "# Check if the model was loaded successfully\n",
    "if wv:\n",
    "    print(\"Word2Vec model is ready to use.\")\n",
    "else:\n",
    "    print(\"Word2Vec model could not be loaded.\")"
   ]
  },
  {
   "cell_type": "code",
   "execution_count": null,
   "id": "3fa6834a",
   "metadata": {},
   "outputs": [],
   "source": [
    "# === 1. Get Closest Words (Most Similar Vectors) ===\n",
    "try:\n",
    "    print(\"\\n--- Finding words closest to 'computer' ---\")\n",
    "    similar_words = wv.most_similar('computer', topn=5)\n",
    "\n",
    "    print(\"Words most similar to 'computer':\")\n",
    "    for word, score in similar_words:\n",
    "        print(f\"- {word} (Similarity: {score:.4f})\")\n",
    "\n",
    "except NameError:\n",
    "    print(\"Error: The 'wv' object is not loaded.\")\n",
    "except KeyError as e:\n",
    "    print(f\"Error: Word '{e}' not found in the vocabulary for similarity check.\")\n",
    "except Exception as e:\n",
    "    print(f\"An error occurred: {e}\")\n",
    "\n",
    "# === 2. Access a Specific Word's Vector ===\n",
    "try:\n",
    "    print(\"\\n--- Accessing the vector for 'tree' ---\")\n",
    "    vector_tree = wv['tree']\n",
    "\n",
    "    print(f\"Successfully retrieved vector for 'tree'.\")\n",
    "    print(f\"Vector dimensions (shape): {vector_tree.shape}\")\n",
    "\n",
    "except NameError:\n",
    "    print(\"Error: The 'wv' object is not loaded.\")\n",
    "except KeyError as e:\n",
    "    print(f\"Error: Word '{e}' not found in the vocabulary.\")\n",
    "except Exception as e:\n",
    "    print(f\"An error occurred: {e}\")"
   ]
  }
 ],
 "metadata": {
  "kernelspec": {
   "display_name": ".venv",
   "language": "python",
   "name": "python3"
  },
  "language_info": {
   "codemirror_mode": {
    "name": "ipython",
    "version": 3
   },
   "file_extension": ".py",
   "mimetype": "text/x-python",
   "name": "python",
   "nbconvert_exporter": "python",
   "pygments_lexer": "ipython3",
   "version": "3.11.11"
  }
 },
 "nbformat": 4,
 "nbformat_minor": 5
}
