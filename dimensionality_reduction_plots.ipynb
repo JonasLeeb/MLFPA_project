{
 "cells": [
  {
   "cell_type": "code",
   "execution_count": 2,
   "id": "6a52abb0",
   "metadata": {},
   "outputs": [],
   "source": [
    "%matplotlib widget\n",
    "import plotly.graph_objects as go\n",
    "import numpy as np"
   ]
  },
  {
   "cell_type": "markdown",
   "id": "0c8e0d59",
   "metadata": {},
   "source": [
    "# Word2Vec vectors"
   ]
  },
  {
   "cell_type": "code",
   "execution_count": 3,
   "id": "d1272dcb",
   "metadata": {},
   "outputs": [
    {
     "name": "stderr",
     "output_type": "stream",
     "text": [
      "INFO:gensim.utils:loading KeyedVectors object from models/word2vec-google-news-300.model\n"
     ]
    },
    {
     "name": "stdout",
     "output_type": "stream",
     "text": [
      "Model already exists, loading from file...\n"
     ]
    },
    {
     "name": "stderr",
     "output_type": "stream",
     "text": [
      "INFO:gensim.utils:loading vectors from models/word2vec-google-news-300.model.vectors.npy with mmap=None\n",
      "INFO:gensim.utils:KeyedVectors lifecycle event {'fname': 'models/word2vec-google-news-300.model', 'datetime': '2025-05-08T10:24:05.304756', 'gensim': '4.3.3', 'python': '3.11.7 | packaged by Anaconda, Inc. | (main, Dec 15 2023, 18:05:47) [MSC v.1916 64 bit (AMD64)]', 'platform': 'Windows-10-10.0.26100-SP0', 'event': 'loaded'}\n"
     ]
    },
    {
     "name": "stdout",
     "output_type": "stream",
     "text": [
      "Word2Vec model is ready to use.\n"
     ]
    }
   ],
   "source": [
    "import gensim.downloader as api\n",
    "import logging\n",
    "import os\n",
    "import gensim\n",
    "\n",
    "# Set up logging to display information\n",
    "logging.basicConfig(level=logging.INFO)\n",
    "\n",
    "# Define the model name\n",
    "model_name = 'word2vec-google-news-300'\n",
    "\n",
    "if os.path.isfile(\"models/word2vec-google-news-300.model\"):\n",
    "    print(\"Model already exists, loading from file...\")\n",
    "    # Load the model from the file\n",
    "    wv = gensim.models.KeyedVectors.load(\"models/word2vec-google-news-300.model\")\n",
    "else:\n",
    "    # Attempt to load the model\n",
    "    try:\n",
    "        print(f\"\\nAttempting to download '{model_name}' using gensim downloader...\")\n",
    "        # Load the model using gensim's downloader\n",
    "        wv = api.load(model_name)\n",
    "        print(\"\\nModel downloaded/loaded successfully!\")\n",
    "        print(f\"It is now cached in: {api.BASE_DIR}\")\n",
    "\n",
    "        # Save the Word2Vec model\n",
    "        if wv:\n",
    "            model_path = \"models/word2vec.model\"\n",
    "            print(f\"Saving the Word2Vec model to '{model_path}'...\")\n",
    "            wv.save(model_path)\n",
    "            print(\"Model saved successfully!\")\n",
    "        else:\n",
    "            print(\"Word2Vec model is not loaded, so it cannot be saved.\")\n",
    "\n",
    "    except Exception as e:\n",
    "        print(f\"\\nFailed to download or load using gensim downloader: {e}\")\n",
    "        wv = None  # Ensure wv is defined even if loading fails\n",
    "\n",
    "# Check if the model was loaded successfully\n",
    "if wv:\n",
    "    print(\"Word2Vec model is ready to use.\")\n",
    "else:\n",
    "    print(\"Word2Vec model could not be loaded.\")"
   ]
  },
  {
   "cell_type": "code",
   "execution_count": 22,
   "id": "78a5e3a1",
   "metadata": {},
   "outputs": [],
   "source": [
    "center_word = 'model'\t\n",
    "\n",
    "similar_words = wv.most_similar(center_word, topn=300)\n",
    "words = [word for word, score in similar_words]\n",
    "\n",
    "distances = [np.abs(wv[center_word] - wv[word]) for word in words]\n",
    "\n",
    "\n",
    "distances = np.sum(np.array(distances), axis=0)\n",
    "\n",
    "# Find the 3 shortest distances\n",
    "shortest_indices = np.argsort(distances)[:3]\n",
    "\n",
    "# Find the 3 longest distances\n",
    "longest_indices = np.argsort(distances)[-3:]\n",
    "\n",
    "# 3 random dimensions\n",
    "random_indices = np.random.choice(range(len(distances)), size=3, replace=False)\n",
    "\n",
    "\n",
    "# Find the dimensions where the words are most clustered\n",
    "distances_wfw = np.array([[np.abs(wv[word1] - wv[word2]) for word2 in words] for word1 in words])\n",
    "\n",
    "cluster_indices = np.zeros(distances_wfw.shape[2])\n",
    "\n",
    "for i in range(distances_wfw.shape[2]):\n",
    "    # find the distances to the 10 closest words to each word in every dimension\n",
    "    closest_words = np.sort(distances_wfw[:,:,i], axis=1)[:,1:10]\n",
    "\n",
    "    closest_sum = np.sum(closest_words)\n",
    "    cluster_indices[i] = np.argmin(closest_sum)\n",
    "\n",
    "cluster_indices = np.argsort(cluster_indices)[:3]\n",
    "    "
   ]
  },
  {
   "cell_type": "code",
   "execution_count": null,
   "id": "1d075e92",
   "metadata": {},
   "outputs": [
    {
     "data": {
      "text/plain": [
       "True"
      ]
     },
     "execution_count": 120,
     "metadata": {},
     "output_type": "execute_result"
    }
   ],
   "source": [
    "import webbrowser\n",
    "\n",
    "indices = cluster_indices\n",
    "\n",
    "# Example data\n",
    "vectors = [wv[words][:,indices[0]], wv[words][:,indices[1]], wv[words][:,indices[2]]] \n",
    "colors = np.array([wv.similarity(center_word, word) for word in words])\n",
    "# Create a 3D scatter plot\n",
    "fig = go.Figure(data=[go.Scatter3d(\n",
    "    x=vectors[0],\n",
    "    y=vectors[1],\n",
    "    z=vectors[2],\n",
    "    mode='markers+text',\n",
    "    marker=dict(\n",
    "        size=5,\n",
    "        color=colors,\n",
    "        colorscale='Plasma',\n",
    "        opacity=0.8\n",
    "    ),\n",
    "    text=words  # Add word labels\n",
    ")])\n",
    "\n",
    "fig.update_layout(\n",
    "    title=f\"3D Scatter Plot of Word Vectors for '{center_word}'\",\n",
    "    scene=dict(\n",
    "        xaxis_title=f'{indices[0]}-axis',\n",
    "        yaxis_title=f'{indices[1]}-axis',\n",
    "        zaxis_title=f'{indices[2]}-axis'\n",
    "    ),\n",
    "    coloraxis_colorbar=dict(\n",
    "        title=\"Similarity\",\n",
    "        thickness=20,\n",
    "        len=0.75,\n",
    "        x=1.1  # Position the colorbar slightly outside the plot\n",
    "    ),\n",
    "    width=1500,\n",
    "    height=1000,\n",
    ")\n",
    "\n",
    "# Save the plot as an HTML file and open it in the browser\n",
    "fig.write_html(\"word_vectors_plot.html\")\n",
    "webbrowser.open(\"word_vectors_plot.html\")"
   ]
  },
  {
   "cell_type": "code",
   "execution_count": 23,
   "id": "3dba34f1",
   "metadata": {},
   "outputs": [
    {
     "data": {
      "application/vnd.plotly.v1+json": {
       "config": {
        "plotlyServerURL": "https://plot.ly"
       },
       "data": [
        {
         "marker": {
          "color": {
           "bdata": "658+P2+UBT+/awA/c5X2PjA89D7aMPQ+5IHzPkQT8T5c5vA+xHzwPqys7D5Jnus+WnTrPv9d6z4KhOo+4dbpPiPF6T7Goug+0yXoPtYl5z5nFuc+htzmPpaT5j4lUuY+1P7lPoiT5T5sjuU+LYjlPrYe5T6v7eQ+y3TkPtMl5D4NZOI+2/3hPlGl4T5ji+E+BEDhPtOw4D47g+A+XLHfPhNo3z5XId8+axjfPp/w3j7KsN4+MkvePmzb3T5Upt0+oDPdPiYW3T7CDN0+FmncPtVl3D6UH9w+MQbcPiHu2z6TC9s+lgfbPnjx2j7CIto+VujZPtTd2T4L3Nk+FWHZPkAv2T5i49g+PdXYPsN+2D6ectg+fO3XPoHP1z5hstc+eq3XPiqf1z4vcNc+6eXWPgvW1j7jzdY+8MjWPoeV1j4ZldY+m5TWPliC1j7yd9Y+dkLWPmMo1j5YINY+9w3WPifh1T65sNU+infVPiI91T7TGdU+h8rUPvek1D6MmNQ+v3/UPrhy1D5WbtQ+jSzUPvIm1D4uDNQ+ngDUPlkA1D451dM+7L7TPmu70z5jrdM+CmvTPpRc0z6GR9M+ETHTPoQo0z5cBdM+uvvSPnjt0j6u5dI+OrrSPn6d0j5ll9I+3YXSPo9G0j5KNtI+fyjSPpkP0j5+/NE+kfvRPkL60T7N8tE+luvRPu3n0T5m59E+id7RPk/e0T6p1NE+d8TRPnC+0T4gtNE+SYfRPtBx0T7YZdE+tGTRPuVg0T6/UtE+WkbRPuoP0T5D4dA+2rTQPsyQ0D6dhdA+MHjQPsJR0D6PPdA+0wzQPrsF0D6A7M8+B+rPPqPlzz5O4M8+5t3PPn3dzz64yM8+NrTPPqGozz5Khc8+dlvPPu5Wzz4yUc8+ZFDPPgZPzz54S88+VjrPPp04zz6/Ds8+b+/OPljkzj5O484+i+DOPtHQzj49zc4+B67OPrWdzj6fj84+eIvOPreFzj7ihM4+W3TOPjFlzj7IWc4+UU7OPk5Lzj4EN84+8B7OPk0bzj5KE84+rRDOPnD0zT7i8s0+dObNPgLXzT760s0+yMrNPiCrzT7Ok80+1XLNPiBxzT7PbM0+BmPNPqJOzT6GTc0+KULNPv8hzT7gEs0+GgnNPm74zD4B9cw++cLMPnu+zD75vcw+07zMPoumzD5Wn8w+dZ3MPh6VzD45isw+On3MPpdyzD7Vbsw+FmrMPo5bzD6eRsw+XkXMPmU7zD4fK8w+8yfMPtMnzD5GIcw+QBfMPokUzD7Q9cs+Je/LPqzqyz4n58s+aOPLPinWyz5d1cs+zNLLPizRyz6nu8s+U7nLPvW1yz5vq8s+TKrLPoKcyz4ciMs+ZILLPid2yz7wZ8s+u1XLPn5Vyz5XUcs+pjnLPjQfyz62Ecs++wrLPg8Fyz7+7co+Se3KPlfpyj4Jx8o+5sLKPrSfyj5VnMo+VIbKPkWEyj7Agco+nHvKPu90yj5pc8o+7W/KPvdnyj5OYso+dlPKPgBNyj5xSso+IUfKPmw8yj7nJso+2RbKPl33yT4S5ck+9OPJPnnTyT6nz8k+9sbJPnS9yT5rqck+xKPJPtSiyT7Jmck+",
           "dtype": "f4"
          },
          "colorscale": [
           [
            0,
            "#0d0887"
           ],
           [
            0.1111111111111111,
            "#46039f"
           ],
           [
            0.2222222222222222,
            "#7201a8"
           ],
           [
            0.3333333333333333,
            "#9c179e"
           ],
           [
            0.4444444444444444,
            "#bd3786"
           ],
           [
            0.5555555555555556,
            "#d8576b"
           ],
           [
            0.6666666666666666,
            "#ed7953"
           ],
           [
            0.7777777777777778,
            "#fb9f3a"
           ],
           [
            0.8888888888888888,
            "#fdca26"
           ],
           [
            1,
            "#f0f921"
           ]
          ],
          "opacity": 0.8,
          "size": 5
         },
         "mode": "markers+text",
         "text": [
          "models",
          "Model",
          "xenograft_mouse",
          "Brother_Nidal",
          "Smallpox_infection",
          "Forfour",
          "Amazonian_goddesses",
          "Pursuing_vertically_integrated",
          "PQ##_platform",
          "concept",
          "paradigm",
          "sporty_hatchback",
          "Vertrek",
          "polymorphous_sexuality",
          "Dealer_invoice",
          "razor_razor_blade",
          "proprietary_econometric",
          "actress_Angie_Everhart",
          "digiMedical_Solutions_TM",
          "Models",
          "chip_Tarnovsky_hacked",
          "coupé_cabriolet",
          "rebadged_version",
          "Crossfire_coupe",
          "G##_Sedans",
          "V##_wagons",
          "template",
          "TT_Coupé",
          "Jaguar_XK_coupe",
          "modeling",
          "busty_glamor",
          "hardtop_convertible",
          "sporty_roadster",
          "humanized_mouse",
          "pacifying_restive_Sunni",
          "Honda_Accord_Coupe",
          "Rosie_Huntington_Whitely",
          "Sagitar",
          "cee'd_SW",
          "grand_tourer",
          "Styling_wise",
          "Skoda_Roomster",
          "stochastic_simulation",
          "Flex_crossover",
          "RAV4_compact_SUVs",
          "Range_Rover_TDV8",
          "sportback",
          "supercharged_V6",
          "A3_hatchback",
          "BMW_X3_xDrive##d",
          "BlueSport",
          "CLS##_AMG",
          "razor_razorblade",
          "hybird",
          "FEA_valuation",
          "CLK_Cabriolet",
          "Lexus_LX_###s",
          "Iosis_X",
          "Prediction_API",
          "Opel_Vauxhall_Astra",
          "coupe_cabriolet",
          "#x#_drivetrain",
          "Astra_hatchback",
          "SI_swimsuit",
          "Transit_SportVan",
          "WRX_sedan",
          "Pentastar_engine",
          "A6_sedan",
          "unibody_chassis",
          "midengine",
          "Tata_Indica_eV2",
          "internal_combustion_engined",
          "Dyna_Glide",
          "BYD_F3",
          "Townpod",
          "sportier_styling",
          "Cayenne_GTS",
          "Duramax_diesel_engine",
          "rebodied",
          "IBM_worksite_wellness",
          "Chevy_Cruze_compact",
          "variant",
          "Clio_Renault",
          "A5_Sportback",
          "XJ_sedan",
          "Multiair_engine",
          "Alfa_8C_Spider",
          "Mondeo_sedan",
          "sports_tourer",
          "prototype",
          "Reference_SCOR",
          "Long_Wheelbase",
          "Acabion",
          "nurturant_parent",
          "carbon_fiber_monocoque",
          "Vision_Efficient_Dynamics",
          "FT_SX",
          "C##_coupe",
          "coupe_convertible",
          "newer_sleeker",
          "Crown_Majesta",
          "generalized_linear",
          "C8_Aileron",
          "X3_#.#i",
          "VE_Ute",
          "Polo_Vivo",
          "Fabia_vRS",
          "Caliber_hatchback",
          "mini_MPV",
          "soft_roader",
          "BMW_Z1",
          "Ford_Mustang_Coupe",
          "CRDi_diesel",
          "Bicolore",
          "Donielle_Morris",
          "CTS_sedan",
          "B5_TPH",
          "#.#L_diesel",
          "Scirocco_coupe",
          "IS_###d",
          "Esther_Canadas",
          "actor_Milind_Soman",
          "MINI_Crossover_Concept",
          "BMW_M1_Homage",
          "Verve_Concept",
          "Opel_Antara",
          "XK8",
          "Dante_Giacosa",
          "Chevy_Equinox_crossover",
          "retractable_hardtop_convertible",
          "Agyness_Dean",
          "Avenger_sedan",
          "Megacity_electric",
          "bodystyle",
          "Punto_Evo",
          "featuring_scantily_clothed",
          "Flex7_seating",
          "Accord_coupe",
          "TT_coupe",
          "BMW_Concept_X6",
          "Monkeypox_Virus",
          "actress_ELIZABETH_HURLEY",
          "#.#L_turbo",
          "multinomial",
          "Enclave_crossover",
          "Colt_CZC",
          "MX_Crossport_concept",
          "STS_sedans",
          "intelligent_xDrive",
          "Maruti_Suzuki_Alto",
          "multivariable_regression",
          "subcompact_Fiesta",
          "subcompact_sedan",
          "Lafesta",
          "A5_Coupe",
          "Boxster_roadster",
          "VFR###",
          "SRX_Crossover",
          "Range_Stormer",
          "SX4_crossover",
          "econometric_forecasting",
          "V6_turbo_diesel",
          "rwd",
          "Chrysler_Sebring_sedan",
          "TG_Grandeur",
          "sporty_coupes",
          "Dacia_Sandero",
          "Chery_A1",
          "Golf_GTI_Edition",
          "capsaicin_induced",
          "allroad_quattro",
          "XK_coupe",
          "Legacy_Outback",
          "Impreza_#.#R",
          "boxfish",
          "icon_Twiggy",
          "Qpod",
          "A5_coupe",
          "Passat_R##",
          "Fiesta_hatchback",
          "Pixo",
          "notchback_sedan",
          "Jeep_Wrangler_Rubicon",
          "user_chooser",
          "coupe_cabrio",
          "BMW_M3_Convertible",
          "smart_forfour",
          "Shamita_Singha",
          "Altima_coupe",
          "Hybrid_HDi",
          "Q5_crossover",
          "BizAuctions_employs",
          "Ikon_Fusion",
          "E###_4Matic",
          "i##_hatchback",
          "BMW_X5_#.#i",
          "SLT_A##V",
          "fastback_roofline",
          "DiesOtto",
          "Styling_cues",
          "Coupé_Cabriolet",
          "RAID_Approach",
          "Audi_A3_Sportback",
          "Concept_X1",
          "SLK###",
          "pro_cee'd",
          "Peugeot_###CC",
          "mid_engined_roadster",
          "Mk6",
          "Ford_Fairlane_concept",
          "Vidisha_Pavate",
          "LRX_Concept",
          "Coda_sedan",
          "SL_Gullwing",
          "Trailhawk",
          "Five_Hundred_Freestyle",
          "Spenchian",
          "roadcar",
          "Maserati_Gran_Turismo",
          "Verna_Transform",
          "boulevard_cruiser",
          "Urbee",
          "Octavia_RS",
          "Pro_cee'd",
          "Wankel_engine",
          "SX4_hatchback",
          "S4_Cabriolet",
          "Nissan_Ellure",
          "Matrix_XRS",
          "Civic_Si_Coupe",
          "Cee'd",
          "Z_Roadster",
          "Jaguar_XJ_sedan",
          "chassis_tuning",
          "ADSL2_+_tester",
          "DB9_coupe",
          "Range_Rover_HSE",
          "QX##_SUV",
          "Sportka",
          "Infiniti_G##_Convertible",
          "3D_wireframe",
          "Fiat_Multipla",
          "BLS_Wagon",
          "seater_coupé",
          "hatchback_coupe",
          "SportVan",
          "GT_THP",
          "unibody_frame",
          "Lancia_Delta",
          "actor_Sameer_Soni",
          "GT_coupe",
          "Boxster_Spyder",
          "load_lugger",
          "Malibu_Maxx",
          "#.#si",
          "###Z_coupe",
          "coupés",
          "conservatively_styled",
          "allroad",
          "triband_GSM_###/####/####",
          "Mégane_Coupé_Cabriolet",
          "seven_seater_MPV",
          "tC_coupe",
          "Lancer_Sportback",
          "XK_Convertible",
          "ColorProof",
          "floorpan",
          "mid_engined_supercar",
          "Lancer_Cedia",
          "Škoda_Superb",
          "GT_supercar",
          "Duramax_engine",
          "Entrepreneurship_Syndicated",
          "gigahertz_microprocessor",
          "Hidden_Markov",
          "Citroën_C_Crosser",
          "S##/V##",
          "donning_extravagant_headwear",
          "Audi_Allroad",
          "Mazda3_compact",
          "Alfa_Spider",
          "V8_powerplant",
          "Reventón_Roadster",
          "NEW_YORK_TheStreet_TheStreet",
          "Donna_Peele",
          "Volvo_C##_convertible",
          "actress_Josie_Maran",
          "freshened_styling",
          "A5_Cabriolet",
          "Focus_BEV",
          "Opel_Insignia_OPC",
          "Volvo_S##_sedan",
          "Duratorq_diesel",
          "LF_Ch_concept",
          "LaCrosse_CXS",
          "archetype",
          "###XP",
          "Yaris_hatchback",
          "Xenatec",
          "Turin_Bruni_Sarkozy"
         ],
         "type": "scatter3d",
         "x": {
          "bdata": "7o/IPYy3vr59c2i/eU8ev9UvH7/N3tc+zvY5vzHGEb/Is9++yBTBvoGLer9wZ1k/L8vePsv3Kr/SOze+LE4ZvwPgP79pBj+/nZw4v3iXtb4XVku/1psMP6yA2T2fepC+GNaHvjNgsL4d92K/2vwUvkJrlr2q3Zm/wWJHv1T/0T9Xjsy8jFNXvxYFJL/dYso+jR3Gvq1rpT7E02S+vH7eP1th0L1I8BQ/9pprvyfFmT8WiBu+t4nTvmtYKz6PKe8+b6q1vOougbwOrr49+ZlzP4qdSL8015e+CydRv/xpcb5FKZG56eyqvnFvI7824DA+FDOgP/TyqL7FQUS9N4wYv65v2r6NpmG+W2wXvda7hD/2MLo+ay0TPyD82L6mwrC++PQav/C/mr0gv0W+wBqevjBjiD/HgvW9yOEiP8yLRL8yghY8wQupPm7e7j7aFKY/sThWP2IYKL/CvDS9iqscPuNIsj8pbzC+hCNGvyzeCj9Dzq69mpRRv8MfQj/5LJI+tUDuPC4Ihj7CHJY/dXflvntdBb2rmV6/WyMeP+eCwL1KcGI9aFhGPXsH/j5IrWK+VkPyPxI4zT9XL8O+CLnJvvSf2745jGo9OsRvv6Lktz8Z2g2/YKhYPycH8L45X5c9vkhdvyTH5L4oaX29jD2LvRJsuD41OTg/VvL+PiLgBb+o7dK+EqNAPs9PNL8aP00+4iOyviYRqT8OGWE/MDU0v9WOYr4lSvM+ss1qPkKccz4Bd+G+gJRHv/qHBz/XLG2/PfPMPmR8ET6CI4S+rYXEPv10ur6/GVA+T+Vkv8Moaz8CihY/cLlqvsz3aj5sue+9TpUGPVGcs77i2C6+MFHmvMLYZL/v8gW/w+AVPxkYcj+ECOG+zkxCPEV5Dz7Y2C2+pSF+vgRkYb/nwpi8f7gBP/kkGT9yiZe+WVsxvD7H0r6vMCW/OisvP+lUCD49TEo+VisIP87WFr6Gdew+CQ6yPS5fyL4uFQQ/isdEP3pIQr8S4Ig/kEECvzAVQr7oEyq/aVtpvpzwP76h2BY//skDvmsaJL8jxgC+208fvsCEKL6ukjw/mFMVv2Brgj7i//a+pQKKP5BCUD9cjGg+LdcBvm4KeD43apA+LKk+v4VMJT6wIWu8FSzEPV73Ob5ec1C+rJRzviWPI7786R0+EEFNPqaF2j6doxC94zWZPvrqEz65pgY+/CdZPstgwb3s0/W+Qu1Xvhe1xD01a8s/jYp1vquOhr4MdYY+RKs+v9Dg477G4TG+fgvWvvUJmj15kJI+1lU2v70y/j1rB9K9NxqaPT/AnT3lqlq+EkAQvdBpfT/X6Ww/XgxAvyzxhT8iRJQ/brEQP+ZANT+plhM/DkkfPgjllj9opLg+C/KAPhDnFr+AQ4e+j+BWvvgCiD4eTak/TwDtPKhoBb84/HE/RCXUPfpnUj4AHvQ89n6jPY4CGr9pMRi/rkwvv4vjX7+F35a+nJzDvrl8t75sEk2+HrGkPhqBMz9wbgk/pE1GvqDsQr+ZQK6+jyg0vmXq+b3X1pG+V4UlP0EH2L4nGQi+EtIqPwHByr7/uDA+2abNvdDULr9SCUI+rv9ovdLSIL5KU9C+",
          "dtype": "f4"
         },
         "y": {
          "bdata": "54ttP1C7cD/ISQ++d957PkklBz+O1Ya9Q4xQvQv0xj79G1m+y76JvlMWt7y3Q549sJgAPbTjJz4MwUI/lxqFPhb+oD78Nd8+YNUHPk2dqD/LXy++yYbLvRnhAj25EW++0o0fP+k3dj4sNa89HJVnvqhRD77tWbY/FQUPPsLLhT7Tf3K+ctkOP1Ba7D7fIFY8gttcP9O9pz7AjGu+teiZPZ6AsL6fW225EU3EvYTorD6kCJs/PMdhvjOhG764AAO+r5UVvt1fCb5RWAG+rRvrPOXFML7fGhO+w9ikPgfkbr5MyqE/yZ46vvjfhL6ErFY+gPwiPrIrdb6H2gO+fzoqP2P7hb5eO4m+H1wIviiaoT7dpw2+CML8vdkdY74bb32+EFZxvnkWtb2ltqa95KCgvtbwAL0je+C9B06lO5gDnz52lWC8vi6GvaJLML2Y0fA9zK/6PbzgxL77o5S+I1GJPNpf07txzz0+cznjPQ1nLD54A5++FFGcvQSxZT7gWRQ9tn7oPHeux706JsI9TTtUvjjKdj3TUmc+blo8PoPDNL5ihzS+0UREvskPDL77OTy+ivG/Pfp2K727AzW+QB6LvoiSn76KOU2+6sGePHrziT4g/06+EWPdPZo1nr7/FR6+xmmPPUAgOT+MDZO+Umkgvs1H1rxC1yS7sXhzPX3AZL7/Ija+DGThvSLfVD0BRYA+PSkhvl6XL779VlW9iPDHPtl1or42lla9SzkIvUJ3671Jomc/IeGJPUFmmrwQami+gj68PcmsmL0iEYG+HlaUPjPIRr6gtSw+KD5RvWi57j4H5cg8TIQfvntBvLtrlt29Bwg2vkDjH74b85e+NWqAvi0k9L1t+aK+0otLvebY5D4tD7m+Bd2AvuOC3b19KCG9D6sLvqTzVL7WG0S+hVpjPYfeNTvgh6K+HpQBPrqzND/svgW+5svuOjc0EL4RCfo77tSEPoSmPL4vKg0+n7GCvntFm75/Oom+Z9TtPUYY0j1KwWo+VaBQvtq8c74HvDQ/i0sXPcJAab7IzgI+kev6vUkzVr5ypaW+ifBbvXcWXr4N/He7aqQ0vAS+1LyRf1q+dFSAvcGfNL2jGOG9gZF7vqGcWr5hs9Y9D2G7Pe/4VbwhHym9VmX8Pcrsl76bl5m+exeGvVTmwr6cj9C9YB6XPB4cvL5UYIc+5+2AvmLekj0BMnm+Y303PD7DTL61PaC+E1KAvoRA+LyxlKQ962iKvrPrOr5XZaG+rYhqvqGpw76f75O+Ih5Hvnd65b3d4P29uCqNvHM0NL4K/Dm+a0aTvoR+lb5GGIK+t9JsvlxMXT1q5Zc+1PLjPVbycTxVLNK9WKyfvrZe5j0oYjC9QY5fvtizvD1cqi++QjGDvsl7Zr0xoYa+cpuMvsn1Gz4SGYM+agwWvpm8/L1+ig2+Ovq8vjeqMjz0Z8C8l9dovfRbqr6/1rE+EOiYvUIH/T4Fw42+MtKEvjVJTD/MO7a+HDfqPWJVDj4ROTq+2PGGvkMl8T3gJq0/n06Lvh413j8Ngoe+AetKvcSlUL5+bZK+gWeFPZuISL6J4Qq+tg53vrwjaD0VHqA+6Epdvk0zCb5ygX4/",
          "dtype": "f4"
         },
         "z": {
          "bdata": "l47VvndRAr/mXeY8WzdnvmIq170Fgro9xTl4u/sHPLySqZo867lyv07Ttr/mjfQ7pGgGvrO9ab1T+bA+6kGPvf2Ngr7hcqw6o527POD0k75LoRo+tgFRvvzBQz6SEEE+2SjcPj8qjD57O5+/hN+SvZQEhj02EDm/z4RsPR7pG75G9Py97mGxvjljnb03aUy9iBgTPWlg8j4iYSc+GXFtvx+Xqb0oaYG7k56dvlszoz54hM4+k4cHPr9MyjwlUI2+W2dEPoDupT0pZjM93UYmvhUkAD5Pwgs9dRHkPWFy3D1atK4+C/ohPi6pHr6CD/w+R9mNu0NIgzufg4k+o935vKQwEz1SpAg+T2iqPf1PoD6XRtq+laUKvzER1T3y4By7zF0PPoXJgD6SRGO7588lPR8CMb55Lto8HOtmvt55bz0GAZs+teckvyQfPb58f+695ZxWPTUIJT4wS5++FGHMPnDE/r79dTC/bBXzvPT3aj094oq+ApNUvgoMV7/3ASc8zL6NvtpaWD3g4q69WacvvS9Bkz7w6e2+CPHoOnF5ijx6yeA9be1oPnebFz4liHk+iC2sO433iL4rs0o9bVC+PYj4Az67PWI8CbjOPZWdBL2B54E9X+q/PVecgj0nJYM96/78PU9LAr25Spq+cOu1viWtdr2vr20+7tuCvn+4+bz/E64+DUJyPcIQij2DHbw9w0NCPuLIQb4VAxo71kASPiTnnr02hRo9a1qDu+0uM76Z/oS+3Jf9PSt5ULy+g4e+oRDqPtvCDT5Z8Wq8DDG1Pj3uhL31tr8+92a6vS2sKD+Uhfw+7YGFPvkX+72fA9c95zcAvtjx+z2Qhp89Vd4YPgpGEz3XgKo9sq7BvXkk9T6lHZA+OvioPWFxbj76lrY+/3AvPoRd87zXz8E90n/EvKvjiT6wvow91C8dv/qLCb4c4X0+EDvTvILpyLs/XVc+2S/NPglfuDvDA6G9yUglPvmP8j2sPAe+0bk8Ps0xlDtl/Fc+s0qePeRJcz5rvQO+WS6lPtFM8j0k9cU+r3wDPqlkSTwigYS+JjCBvab7Ib6/LN09g0wbveWy3z0yKkI+zuoVvupQh77irug9m7X1vTbdVL7k6xw+acAOPhYXMD6AgGo+nc++PWSEAL44RlI+LVE9Pt8tmr7B4he9PnxxPjGxyr5xMNC+XLtVvd1Joj5COLe+5SeUPmjVsD2NKUk9pH8RPd62tj0qv6o+Qp7EvJU0GD7g5sK+TyidPSbGULr4VYw9wq43PjnXkD6Oeie992GvvtKAbTujDJI90FGpvSz0Ej112zQ+p4TyPWfWRL8APlc8YZRMPa4QET1ERjq/O/h0vm26/j0qSYO8ex5nPgHF2L6vVwW9j0kDvqODCD4VbBu96t7QPfW+rz7f6vo+mCENPi3nDb4+l0+/ibU2vW+UlT5y6ZQ+IKE3PkMKnz2N2sI+o2chPthZjr5XtTY+j1ZKPT8a1r2pd5c7zT8MP0fGaL5x3Cu+PEH0vVuqOD4yC/A+MnavPYz0mb25V/I93da0PZnsBT4CRNI9iLnIPV6Dez5RTY499SgqPR8psb/GwQW9DZY2Pr+Q8rznm00+",
          "dtype": "f4"
         }
        }
       ],
       "layout": {
        "coloraxis": {
         "colorbar": {
          "len": 0.75,
          "thickness": 20,
          "title": {
           "text": "Similarity"
          },
          "x": 1.1
         }
        },
        "height": 800,
        "scene": {
         "xaxis": {
          "title": {
           "text": "PCA 1"
          }
         },
         "yaxis": {
          "title": {
           "text": "PCA 2"
          }
         },
         "zaxis": {
          "title": {
           "text": "PCA 3"
          }
         }
        },
        "template": {
         "data": {
          "bar": [
           {
            "error_x": {
             "color": "#2a3f5f"
            },
            "error_y": {
             "color": "#2a3f5f"
            },
            "marker": {
             "line": {
              "color": "#E5ECF6",
              "width": 0.5
             },
             "pattern": {
              "fillmode": "overlay",
              "size": 10,
              "solidity": 0.2
             }
            },
            "type": "bar"
           }
          ],
          "barpolar": [
           {
            "marker": {
             "line": {
              "color": "#E5ECF6",
              "width": 0.5
             },
             "pattern": {
              "fillmode": "overlay",
              "size": 10,
              "solidity": 0.2
             }
            },
            "type": "barpolar"
           }
          ],
          "carpet": [
           {
            "aaxis": {
             "endlinecolor": "#2a3f5f",
             "gridcolor": "white",
             "linecolor": "white",
             "minorgridcolor": "white",
             "startlinecolor": "#2a3f5f"
            },
            "baxis": {
             "endlinecolor": "#2a3f5f",
             "gridcolor": "white",
             "linecolor": "white",
             "minorgridcolor": "white",
             "startlinecolor": "#2a3f5f"
            },
            "type": "carpet"
           }
          ],
          "choropleth": [
           {
            "colorbar": {
             "outlinewidth": 0,
             "ticks": ""
            },
            "type": "choropleth"
           }
          ],
          "contour": [
           {
            "colorbar": {
             "outlinewidth": 0,
             "ticks": ""
            },
            "colorscale": [
             [
              0,
              "#0d0887"
             ],
             [
              0.1111111111111111,
              "#46039f"
             ],
             [
              0.2222222222222222,
              "#7201a8"
             ],
             [
              0.3333333333333333,
              "#9c179e"
             ],
             [
              0.4444444444444444,
              "#bd3786"
             ],
             [
              0.5555555555555556,
              "#d8576b"
             ],
             [
              0.6666666666666666,
              "#ed7953"
             ],
             [
              0.7777777777777778,
              "#fb9f3a"
             ],
             [
              0.8888888888888888,
              "#fdca26"
             ],
             [
              1,
              "#f0f921"
             ]
            ],
            "type": "contour"
           }
          ],
          "contourcarpet": [
           {
            "colorbar": {
             "outlinewidth": 0,
             "ticks": ""
            },
            "type": "contourcarpet"
           }
          ],
          "heatmap": [
           {
            "colorbar": {
             "outlinewidth": 0,
             "ticks": ""
            },
            "colorscale": [
             [
              0,
              "#0d0887"
             ],
             [
              0.1111111111111111,
              "#46039f"
             ],
             [
              0.2222222222222222,
              "#7201a8"
             ],
             [
              0.3333333333333333,
              "#9c179e"
             ],
             [
              0.4444444444444444,
              "#bd3786"
             ],
             [
              0.5555555555555556,
              "#d8576b"
             ],
             [
              0.6666666666666666,
              "#ed7953"
             ],
             [
              0.7777777777777778,
              "#fb9f3a"
             ],
             [
              0.8888888888888888,
              "#fdca26"
             ],
             [
              1,
              "#f0f921"
             ]
            ],
            "type": "heatmap"
           }
          ],
          "histogram": [
           {
            "marker": {
             "pattern": {
              "fillmode": "overlay",
              "size": 10,
              "solidity": 0.2
             }
            },
            "type": "histogram"
           }
          ],
          "histogram2d": [
           {
            "colorbar": {
             "outlinewidth": 0,
             "ticks": ""
            },
            "colorscale": [
             [
              0,
              "#0d0887"
             ],
             [
              0.1111111111111111,
              "#46039f"
             ],
             [
              0.2222222222222222,
              "#7201a8"
             ],
             [
              0.3333333333333333,
              "#9c179e"
             ],
             [
              0.4444444444444444,
              "#bd3786"
             ],
             [
              0.5555555555555556,
              "#d8576b"
             ],
             [
              0.6666666666666666,
              "#ed7953"
             ],
             [
              0.7777777777777778,
              "#fb9f3a"
             ],
             [
              0.8888888888888888,
              "#fdca26"
             ],
             [
              1,
              "#f0f921"
             ]
            ],
            "type": "histogram2d"
           }
          ],
          "histogram2dcontour": [
           {
            "colorbar": {
             "outlinewidth": 0,
             "ticks": ""
            },
            "colorscale": [
             [
              0,
              "#0d0887"
             ],
             [
              0.1111111111111111,
              "#46039f"
             ],
             [
              0.2222222222222222,
              "#7201a8"
             ],
             [
              0.3333333333333333,
              "#9c179e"
             ],
             [
              0.4444444444444444,
              "#bd3786"
             ],
             [
              0.5555555555555556,
              "#d8576b"
             ],
             [
              0.6666666666666666,
              "#ed7953"
             ],
             [
              0.7777777777777778,
              "#fb9f3a"
             ],
             [
              0.8888888888888888,
              "#fdca26"
             ],
             [
              1,
              "#f0f921"
             ]
            ],
            "type": "histogram2dcontour"
           }
          ],
          "mesh3d": [
           {
            "colorbar": {
             "outlinewidth": 0,
             "ticks": ""
            },
            "type": "mesh3d"
           }
          ],
          "parcoords": [
           {
            "line": {
             "colorbar": {
              "outlinewidth": 0,
              "ticks": ""
             }
            },
            "type": "parcoords"
           }
          ],
          "pie": [
           {
            "automargin": true,
            "type": "pie"
           }
          ],
          "scatter": [
           {
            "fillpattern": {
             "fillmode": "overlay",
             "size": 10,
             "solidity": 0.2
            },
            "type": "scatter"
           }
          ],
          "scatter3d": [
           {
            "line": {
             "colorbar": {
              "outlinewidth": 0,
              "ticks": ""
             }
            },
            "marker": {
             "colorbar": {
              "outlinewidth": 0,
              "ticks": ""
             }
            },
            "type": "scatter3d"
           }
          ],
          "scattercarpet": [
           {
            "marker": {
             "colorbar": {
              "outlinewidth": 0,
              "ticks": ""
             }
            },
            "type": "scattercarpet"
           }
          ],
          "scattergeo": [
           {
            "marker": {
             "colorbar": {
              "outlinewidth": 0,
              "ticks": ""
             }
            },
            "type": "scattergeo"
           }
          ],
          "scattergl": [
           {
            "marker": {
             "colorbar": {
              "outlinewidth": 0,
              "ticks": ""
             }
            },
            "type": "scattergl"
           }
          ],
          "scattermap": [
           {
            "marker": {
             "colorbar": {
              "outlinewidth": 0,
              "ticks": ""
             }
            },
            "type": "scattermap"
           }
          ],
          "scattermapbox": [
           {
            "marker": {
             "colorbar": {
              "outlinewidth": 0,
              "ticks": ""
             }
            },
            "type": "scattermapbox"
           }
          ],
          "scatterpolar": [
           {
            "marker": {
             "colorbar": {
              "outlinewidth": 0,
              "ticks": ""
             }
            },
            "type": "scatterpolar"
           }
          ],
          "scatterpolargl": [
           {
            "marker": {
             "colorbar": {
              "outlinewidth": 0,
              "ticks": ""
             }
            },
            "type": "scatterpolargl"
           }
          ],
          "scatterternary": [
           {
            "marker": {
             "colorbar": {
              "outlinewidth": 0,
              "ticks": ""
             }
            },
            "type": "scatterternary"
           }
          ],
          "surface": [
           {
            "colorbar": {
             "outlinewidth": 0,
             "ticks": ""
            },
            "colorscale": [
             [
              0,
              "#0d0887"
             ],
             [
              0.1111111111111111,
              "#46039f"
             ],
             [
              0.2222222222222222,
              "#7201a8"
             ],
             [
              0.3333333333333333,
              "#9c179e"
             ],
             [
              0.4444444444444444,
              "#bd3786"
             ],
             [
              0.5555555555555556,
              "#d8576b"
             ],
             [
              0.6666666666666666,
              "#ed7953"
             ],
             [
              0.7777777777777778,
              "#fb9f3a"
             ],
             [
              0.8888888888888888,
              "#fdca26"
             ],
             [
              1,
              "#f0f921"
             ]
            ],
            "type": "surface"
           }
          ],
          "table": [
           {
            "cells": {
             "fill": {
              "color": "#EBF0F8"
             },
             "line": {
              "color": "white"
             }
            },
            "header": {
             "fill": {
              "color": "#C8D4E3"
             },
             "line": {
              "color": "white"
             }
            },
            "type": "table"
           }
          ]
         },
         "layout": {
          "annotationdefaults": {
           "arrowcolor": "#2a3f5f",
           "arrowhead": 0,
           "arrowwidth": 1
          },
          "autotypenumbers": "strict",
          "coloraxis": {
           "colorbar": {
            "outlinewidth": 0,
            "ticks": ""
           }
          },
          "colorscale": {
           "diverging": [
            [
             0,
             "#8e0152"
            ],
            [
             0.1,
             "#c51b7d"
            ],
            [
             0.2,
             "#de77ae"
            ],
            [
             0.3,
             "#f1b6da"
            ],
            [
             0.4,
             "#fde0ef"
            ],
            [
             0.5,
             "#f7f7f7"
            ],
            [
             0.6,
             "#e6f5d0"
            ],
            [
             0.7,
             "#b8e186"
            ],
            [
             0.8,
             "#7fbc41"
            ],
            [
             0.9,
             "#4d9221"
            ],
            [
             1,
             "#276419"
            ]
           ],
           "sequential": [
            [
             0,
             "#0d0887"
            ],
            [
             0.1111111111111111,
             "#46039f"
            ],
            [
             0.2222222222222222,
             "#7201a8"
            ],
            [
             0.3333333333333333,
             "#9c179e"
            ],
            [
             0.4444444444444444,
             "#bd3786"
            ],
            [
             0.5555555555555556,
             "#d8576b"
            ],
            [
             0.6666666666666666,
             "#ed7953"
            ],
            [
             0.7777777777777778,
             "#fb9f3a"
            ],
            [
             0.8888888888888888,
             "#fdca26"
            ],
            [
             1,
             "#f0f921"
            ]
           ],
           "sequentialminus": [
            [
             0,
             "#0d0887"
            ],
            [
             0.1111111111111111,
             "#46039f"
            ],
            [
             0.2222222222222222,
             "#7201a8"
            ],
            [
             0.3333333333333333,
             "#9c179e"
            ],
            [
             0.4444444444444444,
             "#bd3786"
            ],
            [
             0.5555555555555556,
             "#d8576b"
            ],
            [
             0.6666666666666666,
             "#ed7953"
            ],
            [
             0.7777777777777778,
             "#fb9f3a"
            ],
            [
             0.8888888888888888,
             "#fdca26"
            ],
            [
             1,
             "#f0f921"
            ]
           ]
          },
          "colorway": [
           "#636efa",
           "#EF553B",
           "#00cc96",
           "#ab63fa",
           "#FFA15A",
           "#19d3f3",
           "#FF6692",
           "#B6E880",
           "#FF97FF",
           "#FECB52"
          ],
          "font": {
           "color": "#2a3f5f"
          },
          "geo": {
           "bgcolor": "white",
           "lakecolor": "white",
           "landcolor": "#E5ECF6",
           "showlakes": true,
           "showland": true,
           "subunitcolor": "white"
          },
          "hoverlabel": {
           "align": "left"
          },
          "hovermode": "closest",
          "mapbox": {
           "style": "light"
          },
          "paper_bgcolor": "white",
          "plot_bgcolor": "#E5ECF6",
          "polar": {
           "angularaxis": {
            "gridcolor": "white",
            "linecolor": "white",
            "ticks": ""
           },
           "bgcolor": "#E5ECF6",
           "radialaxis": {
            "gridcolor": "white",
            "linecolor": "white",
            "ticks": ""
           }
          },
          "scene": {
           "xaxis": {
            "backgroundcolor": "#E5ECF6",
            "gridcolor": "white",
            "gridwidth": 2,
            "linecolor": "white",
            "showbackground": true,
            "ticks": "",
            "zerolinecolor": "white"
           },
           "yaxis": {
            "backgroundcolor": "#E5ECF6",
            "gridcolor": "white",
            "gridwidth": 2,
            "linecolor": "white",
            "showbackground": true,
            "ticks": "",
            "zerolinecolor": "white"
           },
           "zaxis": {
            "backgroundcolor": "#E5ECF6",
            "gridcolor": "white",
            "gridwidth": 2,
            "linecolor": "white",
            "showbackground": true,
            "ticks": "",
            "zerolinecolor": "white"
           }
          },
          "shapedefaults": {
           "line": {
            "color": "#2a3f5f"
           }
          },
          "ternary": {
           "aaxis": {
            "gridcolor": "white",
            "linecolor": "white",
            "ticks": ""
           },
           "baxis": {
            "gridcolor": "white",
            "linecolor": "white",
            "ticks": ""
           },
           "bgcolor": "#E5ECF6",
           "caxis": {
            "gridcolor": "white",
            "linecolor": "white",
            "ticks": ""
           }
          },
          "title": {
           "x": 0.05
          },
          "xaxis": {
           "automargin": true,
           "gridcolor": "white",
           "linecolor": "white",
           "ticks": "",
           "title": {
            "standoff": 15
           },
           "zerolinecolor": "white",
           "zerolinewidth": 2
          },
          "yaxis": {
           "automargin": true,
           "gridcolor": "white",
           "linecolor": "white",
           "ticks": "",
           "title": {
            "standoff": 15
           },
           "zerolinecolor": "white",
           "zerolinewidth": 2
          }
         }
        },
        "title": {
         "text": "3D Scatter Plot of Word Vectors for 'model'"
        },
        "width": 1000
       }
      }
     },
     "metadata": {},
     "output_type": "display_data"
    }
   ],
   "source": [
    "from sklearn.decomposition import PCA\n",
    "\n",
    "# Assuming `data` is your 300-dimensional dataset (shape: [n_samples, 300])\n",
    "pca = PCA(n_components=3)\n",
    "reduced_data = pca.fit_transform(wv[words])\n",
    "\n",
    "colors = np.array([wv.similarity(center_word, word) for word in words])\n",
    "# Create a 3D scatter plot\n",
    "fig = go.Figure(data=[go.Scatter3d(\n",
    "    x=reduced_data[:, 0],\n",
    "    y=reduced_data[:, 1],\n",
    "    z=reduced_data[:, 2],\n",
    "    mode='markers+text',\n",
    "    marker=dict(\n",
    "        size=5,\n",
    "        color=colors,\n",
    "        colorscale='Plasma',\n",
    "        opacity=0.8\n",
    "    ),\n",
    "    text=words  # Add word labels\n",
    ")])\n",
    "\n",
    "fig.update_layout(\n",
    "    title=f\"3D Scatter Plot of Word Vectors for '{center_word}'\",\n",
    "    scene=dict(\n",
    "        xaxis_title='PCA 1',\n",
    "        yaxis_title='PCA 2',\n",
    "        zaxis_title='PCA 3'\n",
    "    ),\n",
    "    coloraxis_colorbar=dict(\n",
    "        title=\"Similarity\",\n",
    "        thickness=20,\n",
    "        len=0.75,\n",
    "        x=1.1  # Position the colorbar slightly outside the plot\n",
    "    ),\n",
    "    width=1000,\n",
    "    height=800,\n",
    ")\n",
    "\n",
    "fig.show()"
   ]
  },
  {
   "cell_type": "code",
   "execution_count": 21,
   "id": "05486642",
   "metadata": {},
   "outputs": [
    {
     "data": {
      "application/vnd.plotly.v1+json": {
       "config": {
        "plotlyServerURL": "https://plot.ly"
       },
       "data": [
        {
         "marker": {
          "color": {
           "bdata": "qkVMPyL/KT+qpic/prclP4SzGz9j9xA/S9APP8/8Dj9y0A0/+koNP7A/DT/1PA0/QRgNP/7NDD+EXgs/EBELPxH6Cj8rcQo/xiMKP13sCD/qlAg/DQkIP3waBz9w9AY/POAGP5HYBT+ynwU/V4IEP29ABD/qLgQ/qxkEPwjTAz8pcgM/TiEDPysCAz9D6QI/xsoCP1fdAT9DtQE/AoUAP4VlAD99IAA/exQAP1AP/z6LUf4+dLf9PqFb/T4mPv0+qyn9Pq7T+z68gPo+pm/6Pj/d+T7eOfk+jhP5PjR5+D63M/g+bib4Pi8Z+D428/c+G/L3Pohz9z4rMvc+LhD3Pk3N9j6OWPY+3ED2PvgI9j6XBPY+HgP2PnLn9T5OyvU+Qaf1PmVV9T5dNPU+Mbv0PoOr9D78RvQ+fbTzPgqz8z4SqfM+0ijzPlaw8j6rlPI+HknyPlg48j7VMPI+AxzyPoj+8T4R1PE+q3HxPohu8T4LU/E+9MPwPlW68D78nPA+KojwPpqD8D7YUvA+EO3vPn3s7z7L1u8+IcvvPke+7z6fle8+j3LvPhHo7j4nyO4+X8DuPiuS7j4lje4+7mruPkhq7j4hN+4+MRzuPhEL7j4cxO0+LL7tPk+97T7kvO0+V7LtPi1X7T5hx+w+F4zsPgeI7D6TZuw+ciTsPo7f6z7P1es+PLLrPsCH6z6NN+s++QrrPhbx6j5cyOo+isLqPsG76j53oOo+7IbqPtJ76j5fRuo+Qu3pPl+S6T4Fe+k+/lLpPu9N6T5PQOk++jnpPtM46T4YMOk+ExzpPgMS6T6Z++g+n/roPuDn6D4C0Og+mM7oPq7K6D4Syug+o8foPqqC6D6WZeg+6kboPkdE6D6DMeg+byvoPoIq6D7HE+g+bwboPnPb5z5j0ec+9cjnPh+j5z4/ouc+fIfnPvJ35z4HdOc+X23nPmJm5z7nTOc+1EfnPgAj5z6FF+c+zxLnPhwD5z4F9eY+8PLmPh/Z5j6p0+Y+jMrmPpWz5j50reY+TJ3mPlKD5j6ed+Y+4m7mPkZs5j7xZOY+G1LmPjMr5j6YAuY+xIflPgmB5T46buU+1zTlPhcy5T7mMOU+MQrlPhP45D5O9+Q+lN7kPqrd5D7pyeQ+QrvkPsKp5D7ppeQ+3ZnkPtSX5D73lOQ+d3zkPupi5D7SYuQ+glbkPrVU5D72S+Q+oUfkPhQu5D4NK+Q+f9/jPv3Y4z6mnuM+tobjPjls4z6jS+M+QkPjPvA64z7QNuM+3RrjPj/w4j495uI+0dviPo3P4j4UyOI+qrHiPh2t4j5HpuI+qqHiPuag4j5IbOI+MWziPkpp4j4lUeI+wUziPvoi4j5REuI+hPThPhvr4T6Z3+E+N9jhPs3A4T4ilOE+ZIzhPi5v4T4mb+E+kF/hPv1P4T5KS+E+DkjhPm1F4T4JPOE+XTvhPqk24T7AJeE+SBnhPlAY4T7x6eA+yt7gPhXT4D7Tz+A+aMXgPlK74D7VueA+mKHgPt6X4D7ygOA+Kn7gPox94D6/fOA+NnDgPhUJ4D678t8+Re3fPuLP3z5zzt8+d8nfPnyy3z6Ol98+mZbfPuKS3z6Hhd8+",
           "dtype": "f4"
          },
          "colorscale": [
           [
            0,
            "#0d0887"
           ],
           [
            0.1111111111111111,
            "#46039f"
           ],
           [
            0.2222222222222222,
            "#7201a8"
           ],
           [
            0.3333333333333333,
            "#9c179e"
           ],
           [
            0.4444444444444444,
            "#bd3786"
           ],
           [
            0.5555555555555556,
            "#d8576b"
           ],
           [
            0.6666666666666666,
            "#ed7953"
           ],
           [
            0.7777777777777778,
            "#fb9f3a"
           ],
           [
            0.8888888888888888,
            "#fdca26"
           ],
           [
            1,
            "#f0f921"
           ]
          ],
          "opacity": 0.8,
          "size": 5
         },
         "mode": "markers+text",
         "text": [
          "computers",
          "laptop",
          "laptop_computer",
          "Computer",
          "com_puter",
          "technician_Leonard_Luchko",
          "mainframes_minicomputers",
          "laptop_computers",
          "PC",
          "maker_Dell_DELL.O",
          "laptops",
          "PCs",
          "Computers",
          "Los_Alamos_Natl",
          "software",
          "logs_keystrokes",
          "desktop_computers",
          "view_HealthCast",
          "Surface_tabletop",
          "Evi_Susilowati",
          "Macbook_laptop",
          "Byrds_leased",
          "Marco_Boglione",
          "Apple_IIe",
          "Bechtle_AG_GY",
          "Komando_hosts_national",
          "Arrendondo_cook",
          "Motorola_MC####_mobile",
          "generated_CG_animation",
          "keystroke_logger",
          "automated_seismographs",
          "Sony_Vaio_laptop",
          "keystroke_recorder",
          "Company_Nasdaq_ATAI",
          "iBook_laptop",
          "IBM_ThinkPad_notebook",
          "smartboard",
          "daughter_Tomasita",
          "desktop",
          "Mouse_Jiggler",
          "keylogging_software",
          "log_keystrokes",
          "floppy_disc",
          "expert_Sergey_Malinka",
          "hacker",
          "installs_Trojan_horse",
          "Compaq_laptop",
          "electric_typewriter",
          "keystroke",
          "Sellam_Ismail",
          "Panasonic_Toughbook_laptop",
          "computerized",
          "Sinclair_ZX_Spectrum",
          "Sinclair_ZX##",
          "Commodore_VIC",
          "Mohammed_Naeem_Noor",
          "Dell_OptiPlex_desktop",
          "dell_laptop",
          "Diane_Blohowiak",
          "DVR_FM_tuner",
          "COMPUTER",
          "uploading_downloading",
          "receive_MacMall_Exclusive",
          "workstation",
          "deletes_files",
          "moves_hirings_poachings",
          "JR_Simplot_potato",
          "rootkit_malware",
          "deleting_files",
          "installs_backdoor",
          "handheld_calculators",
          "printer",
          "Altair_BASIC",
          "PowerMax_Looking",
          "Intermec_CN3_mobile",
          "Wuennenberg_studied",
          "microcomputer",
          "Vista_preinstalled",
          "Fake_antivirus",
          "EDSAC",
          "defragged",
          "Evidence_Eliminator",
          "keypunch",
          "flextop",
          "PowerBook_laptop",
          "detected_cyber_espionage",
          "Perez_Melara",
          "Apple_IIGS",
          "drives_CDs_DVDs",
          "Joan_Risse",
          "QandA@nytimes.com",
          "CIPAV",
          "Apple_IIc",
          "floppy_disk",
          "malicious_Trojan_horse",
          "Smartboard",
          "SETI_@",
          "UNIVAC",
          "botmaster",
          "Mark_Eister",
          "Microsoft_TechNet_Magazine",
          "Somniloquy",
          "Dean_Gallea",
          "iPaq_handheld",
          "expert_Imad_Lahoud",
          "mal_ware",
          "sofware",
          "Install_firewall",
          "unbootable",
          "exe_files",
          "workstations",
          "worm_Stuxnet",
          "Muggs_Bass",
          "hardrive",
          "supercomputer",
          "worm_infects",
          "tours_topographic_maps",
          "expert_Guy_Kewney",
          "reseller_CDW",
          "scanners_printers",
          "installs_keylogger",
          "Linutop",
          "Symbolics",
          "autorun_feature",
          "centralized_mainframes",
          "horizontal_smiley",
          "assisted_passenger_prescreening",
          "LogicaCMG_Plc",
          "handheld_device",
          "malicious_hacker",
          "copier_fax",
          "dm_crypt",
          "script_kiddy",
          "ACTIVboard",
          "computing",
          "iSight_cameras",
          "Dell_Dimension",
          "Mac_G5",
          "keylogger",
          "keystroke_logging_software",
          "SmartBoard",
          "keyboards_mouses",
          "spyware",
          "Carol_Cafiero",
          "multifunction_peripherals",
          "portably",
          "Newton_DailyNews_Newspapers",
          "errant_keystroke",
          "confiscated_Conran",
          "CyberDads_computer_repair",
          "password_stealer",
          "Microsoft_Excel_spreadsheet",
          "Trojan_downloader",
          "mainframe_computers",
          "ZoomText",
          "flashdrive",
          "Supernodes",
          "palmtop_computers",
          "VAIO_notebook",
          "pagefile",
          "reinstalling_Windows",
          "Inc._DELL.O_Quote",
          "copiers",
          "millionaire_Richard_Garriott",
          "keystroke_recorders",
          "professor_Ed_Felten",
          "overwrite_files",
          "photocopiers_printers",
          "trojan_virus",
          "Berners_Lee_envisioned",
          "telephones_faxes",
          "thief_stole_laptop",
          "smartboards",
          "fault_tolerant_quantum",
          "NYC_Resistor",
          "hackers",
          "Unpatched_Windows",
          "installs_spyware",
          "disk_partitions",
          "BBProxy",
          "electronic_whiteboards",
          "reinstall_XP",
          "Dell_Inspiron_laptop",
          "Windows_autorun",
          "antivirus_software",
          "Electronic_Numerical_Integrator",
          "carrel",
          "BSoD",
          "PXI_CompactPCI",
          "Torpig",
          "Apple_Powerbook",
          "Peiter_Mudge_Zatko",
          "Macintosh",
          "TeamChildren",
          "screen_saver",
          "printer_scanner_copier",
          "Macintosh_Portable",
          "Alureon_rootkit",
          "trackball_mouse",
          "floppy_disks",
          "Hyppoenen",
          "pst_files",
          "exe_file",
          "called_Evidence_Eliminator",
          "harddrives",
          "inch_floppy_disk",
          "blaster_worm",
          "scanners_copiers",
          "CheckIt_Diagnostics",
          "photocopying_machines",
          "iMac",
          "accidentally_deletes",
          "www.komando.com_listen",
          "Symbol_MC####_mobile",
          "electronics",
          "worm_Conficker",
          "ftp_server",
          "Lenovo_Thinkpads",
          "Wikipedia_Scanner",
          "VCR",
          "floppy_disk_drives",
          "microcomputers",
          "SGI_Altix_supercomputer",
          "unpatched_Windows",
          "servers_mainframes",
          "Coreflood_malware",
          "Mauchly",
          "angsting_Do",
          "sys_admin",
          "Jef_Raskin",
          "System_Configuration_Utility",
          "Radio_Shack_TRS",
          "acquitting_Lori",
          "antiviruses",
          "server",
          "SMARTboard",
          "Knoppix_CD",
          "Defragmenting",
          "Conficker.c",
          "print_spooler",
          "ThinkPad_W###ds_mobile",
          "acquitted_Al_Hussayen",
          "dll_file",
          "malicious_executable",
          "Jessican_Kampen",
          "notebook_computers",
          "MyLaptopGPS_™",
          "neuromorphic",
          "Internet",
          "Tim_Lambert_deltoidblog",
          "G5_PowerMacs",
          "undelete",
          "Univac",
          "gradebooks",
          "MacBook_Pro_notebook",
          "Specifically_CompuFlo",
          "machines",
          "CrunchPad_tablet",
          "iPads_iPods",
          "Lenovo_ThinkPad_W###ds",
          "IBM_Thinkpads",
          "CD_ROM_disks",
          "encrypts_files",
          "Edward_Felten",
          "iChat_instant_messaging",
          "preboot",
          "Qosmio_multimedia",
          "SoulPad",
          "SMARTBoards",
          "Clain_Anderson",
          "pioneer_Alan_Turing",
          "keystroke_loggers",
          "whiz_Mark_Zuckerberg",
          "packet_sniffing",
          "synchronize_folders",
          "Viiv_PC",
          "WEP_encrypted",
          "hardware",
          "LNK_files",
          "defragging",
          "Lexmark_printer",
          "AutoRun_feature",
          "wetware",
          "Loverspy",
          "Clampi_Trojan",
          "Koobface_botnet",
          "badminton_judo",
          "litl",
          "pagers_cell_phones",
          "RemoteSpy",
          "repairperson",
          "Fil_Taga_tournaments",
          "Windows_XP",
          "cabling_fiber_optics",
          "simulated_cyberattack",
          "photocopier",
          "iPhones_iPods_iPads",
          "Viruses_spyware",
          "computor",
          "DirectPlay"
         ],
         "type": "scatter3d",
         "x": {
          "bdata": "3outQd2Ke0GxV4JAGq6gv+oom8HIz+nBUHmFwb6Wj0Eh0YpCjieewerdtUFvLIxCm62WwNLgw8FdWV9CfiQEQqZLGEKvY4DC+bgrQhvy18Fj7ETBrA2UwnQ5/cHT+ALCnjltwVXoGMKyIU3Cv+unQsonycE94ZJBkblYwrom6b+LQSTB0o/NQZepvEHSFS5BQr+Pwvx1G8Js/oNCXi78QDWYpUA37yBCwTPHwVDHnMGCbIdCITUBQtYgQMF50+bBPUiLQTQwfUELmJrBC7p6wi2tV8BBrtdA58dIwVImSsLwVo6/QAJpQRLr0cB2SPjBc9EXQSDevsDaz1jCktGTQnyt1kFvwxnCmK4awnsDA0IK5g5B0IUuQjn4ZcK7BzFCsv6uv2kzpcG9iftA+aMnQvvKvEGElvi/2HMtQiwRJL/5zpHB/bkvQqFLlMIwB7hB/h1pQXEQe8FVk+TBPRCZQbVxYcLmpA/CiLYFwipwPb9JMKXBLlcawmkvBEJpiarChssXQRbvzUBSdFhCVVoGwvYlg8LTlUpBRU3owcELNj7B+x/Ch20YQVnIU0LE/RjCcoBuQZFEWsHsEZtCxGCXQunCasKliE/BkBvBwOQFX0IJ7CHCilQMQSwAbsFwdoRCxMG/Qe5lM0JwMilBIDmtQRMQ88D4rqHCM3Wqwi67xMHXKyFC5BFTQlwATEKTuRfCCqciwFa2aMJ/IX2/uKgEQjIVikG12WFBya6MQcVBqUD6YpjC/t7swaXAkUIwTHnCHKcuQpVlA0LK+gzCSxaiQjEoSMIt30XCnh/UQYuURMHql1pBIpiLQdYENELZM8vBzexJwkrFVMKPn2RB0Gjbv+mJ4cEq3c3Bmk4+Qu++KMEjqjjCDq0cQkVeDUDcsslB15tpQe+6CcJ9P5fCLETMwTsTeMIOkzVBPc9xwkISZELPEJ1BjMQKQnzbl8GrbSVCSB6Bwgp3asCcy2fBO8oNQT3SnUJMvi3B87SXwo/BocAAfBXCj37sQbyIrL5VEww/ZDXwwMQ8WELF2k/BzwFOQrSQQj73CfBBmGXOQTxmpcEJSlhCnrfhwZ8wgkIfG05CqNy5wdLz8cHKSCdCCAcNQtqDjEE6ovJBLQbSQZGrI0DzD6bBwhQ9wuuyBkJw1nVCgIVmwWhpmkAeDfvBO+VUwmytSEIlBI5BVBdrQJXub0KJ7pi/DBokwauFvEFZlIfCpRrcQep44kFgyYRA43SnwbGOTsL7lpdB7C8MwvVNdcKN7EnAjlBSwfaoL0Ke98HBdOQgQRz9GMLY6KU/zThZQWWuMsFcHxpC0uQwwnypm0HFOlfCl5VJwuOahkDTLhnBYlA0QRgxh8KHE7BBJk8/wl0rQUJ13wlBXesNwZ5AJ0LmqDnB1LWiwTIWFsCrOklC7bhhQvKwz0EmCfVAqAihQSQfV8JaIJvCaMWKwe7a4UG7TQfCT7qAQWoGpsGIe7FBSBvrwUBxa0KtM6zAh6iJweKE2UHY+5JBm/pFQhFChMEbWDVBLk7iQZxfosIlUxVCsG5YwpigscC2GP9Af2kGQvUplEL14GbC6fXAwexxHEK9BzDBAdnOQKwobcLwDw5C",
          "dtype": "f4"
         },
         "y": {
          "bdata": "qTliQrFpn0JMlatCWvOwQsh2kMHN0WPB3VaUQY1AkkIBQtJB6FB/Qha5jkKcdA1CjsCgQgADhEDSXozAX4qdwmI/W0LXul5CmmfxQCukLkE8f21BP8HxQesvpUFnveRB2O5xQV5YEEIAdDFCsiqKwmgh5UF1LI/CH2V3QkQhhkLbHB/C/1NBwCqQBkLVhj1CoM2CwRcCv0Bb1otB99PeP2xgcMIwFnrCjMbzQXVepUGhGxbCZXCWwtlJrEIvPExCdJu6wpsRo8GTyC1AfUlQwtyB6EAsJFBBSxCnQV2l4EGJtVpCxfQIQnkP+D7BWuFByH65Qssu+b86CYxCofl0QRwUaMLqqk9Cuxr4v8iHGcGnSIDCFop9wj1+GsJgDGlC44QHwQTDVUJIeSxCGWAWQDjs2EEPKDVCjavBwU+Y6UD+GTbBiFmYwvkbJMJhoNFBG6mLQW4EHsLrd5LCqWUNQVI/eEJ1yz7CCY0qQqx+psLXTCBC7UPmQSq/dMLTiLbBLz0IwsRdvEFWd1rCclTfwSegK0Klh4HAY9hwQBJNBEI2wylBjpRCwqwHgsHoKaZC8iwqwlGGfsKOzYtBt8ACwi7o7EDVhipBUHgRwkf6dcJ5PVdCibUdQkAJC0JuB0VCVygiwRR7wEEMf4rA3IsDwozO6UFc5dFBtDESQTdlcUI3DsVBMKkwwrt7TEKmsu3BKV22wQxFtMEKzh0/XZaJQZ2Ba0KuPz5Cay2HwjKDRsK1mwDC6Q42QUpIuMEr0B/BbaokQqfcdUGex7fBa/rwv+is1EGyCE9C6uxWwsD0nMLUxYjCFocyQrYrsb9hzK9AWjhVwtPQoEAYp3lCNqs2wk4e2cHq+pNC9X9uQrSTPUI1dstBUKSNweF6hcK8uVJCFQNhwpqBQsGniOnB5vebQvIJj8GgP43BjAIiwn+rHcLhxaXByICywiTOEsIxDi/C3NQXwKaAU8ECjJFCSG0ewrcdm8ErDiLAcp6nQTyQ+8FpRBZBZRUnwjPf3EGLwNPBYihDQlNgxUGaqIzC1sKDQmaY+0CcKy3CLz1MQQd+GUIaMzHC4HRRwnv488CvH5XCOdAyQbbOPELImRXCoRc9QoIKd8H3boZCyTeUQlt9w8GA+5jAR6TJwVvbSkEAqsXBHEtVwlz7uUFgIj3CkfYoQvx+X0JHvO1AR5d/wYSbGsJakTFCYJElwmA/kMGotRZCVnd5wYTuf8DMNu/BQIYPQjuxDEKTyITCUOR0wvqSBMGLKMnANjGwweJA2sGLXn7CTzlhQd+/tz6WHkLCtdmWwh+8ocFRJ5lCNQpVwTvV/T/hsxXC/uUmQh/q4kFbBCjC/AToQVwwp8EYLY1CsLOqQU1T5UF6Cn3ABYRwQnKv+EEyehNCm+Fcwe8cbsIOj17BRm6XwrZK+MENI4pBa2/zvh04vsGf83VB5jlhwfyJWsKptkXChXWpwq5AicEr9eVB0N0ewloMRUE1zc3B082fwUjxP0I1Az/CJuSQwHqGj8K8HPfB6ADswQghd8CeUxNCyAJTQVPIb8J1yJc/OOUiwgJCOEKl405AT2LPwU9LnELwH41CYoKMwf3K5cC7jJHB",
          "dtype": "f4"
         },
         "z": {
          "bdata": "66svwhriCcK0Mx7Ce52iwPI7jUGU/oPCco/uwBKgWsI+Rr5BgXMfwp1uK8IR43NBwzRSwYwXmsE571dCbAy0wYvKRsIdgODAdUdjweq0J8JDhgpC1NwpwqvkrcFG3xhCg5HFwRvThMGKUgXB9vkDQsJWYcIJsA3C7D3AQZdo+kEsTgBBbjavwmjvzUCbhDNB2Ho/wqXC8cFf7K9ABrcKQugDH8LyOQPCdVZ2QlTJoMKKRiHCu7SrwIMlAEKLGeJBtLeRwcfHjcEmtH1BwwBswYKzBMFSEZ7BdKV+QWQLQsLGLrvBFFT7QbO8fML8yyhA0Ti+QIB3S0IfND7BJp8IwRWWR0JhRoRA5PU8wZk8wkABh2pC5Hhewees2MEWX3dBheF6wd+jKcGuTwLBpacgwjCYGML4dLhBiuRvwXnAKsKlp4hCDm7rQa9zCcBdUIPBLnsjQeyuHsJsqk/BV9rBwELY+sGWHVPCBtkNwtlbFkB0GilCmTqKQkLL5UBSsxbCwVF0wgYVaML354RBKIyPwoiK2cE+Y1VCNzT6QaVDucFi/YvCTAIAwdDdYkKZ+ABDLyeHQkTGWEK+dprB/9zsQRIzrsG8FotCfZODwpcGCMBG9KPB5HGfQthvhMHZizHBdyoywx7bEkJeoOXB50kCQk6YJMJ69lfBtRgDwm1QXMLcS45CTSGlwc3tTsCrPRBCAbjMwPBqA8JtR5zCGRhWQaz2TkKZiCJCjPhVwmqf2sF1wDTCO3tKvn2GZ8GBnJ5BtkqvwS55ckJlW+TBdK3BQWh4zcHeBE/CbMxpwcnfB0LfuHrBcyFkwpDZ4UFJzVBC1fBEQWr+gkJXSMVASmtcQlcyj0Ljz+/Bhiu5wZXUjcIcIYNBHmpbwruWHELxpI/BYpXKQD64oEHhGr9BGmNkQT3cecJ0xIfCzTs/QqBrMcKx4pFBK67OP03KTkJ7dlvAL8N1ws6MDUI+GcNBi/uaQf6bY8AHgwzCPmA3QiuI70E6xXRBHAbdwdmSMEKSAOXBSh5DQqDwJ8ISu49CxrwGQMM5FkGJ3IFBfK4ZQvTMl0LoxkNCQqpjQvvXBMJ3TylC+V6hQlcZW0Jv2uRBYujmwOdjC0KiJ2TBvXYdQtKOiEKpKo4+eerNwKkMgcJHAbdBUFIaQm2qX8C42AHB8cUuQgcDK0L8ICTCm6BCwvjHnL5OWS7CmcdZwWY6F8LbZBxAJ6aOQlYlmsE+7jJCmNjTQeZqmMIUnb9BviMNQg73GMLVBKhBlCxnQvN0A0FyqKRBPi6EQpt+Q8J1zhFC3EHnPoGZtMIg9TPCeqgHQSV/dcIku5BB1T4cwvLtG0GvRZZCgT6Lwgwxl8FYLsNBvCWjwO3LW8Gi4ng/y7VFQHXLr0E0e5pA3eybwRYomEEZ8H3CZwORwdy4RUK+od1ByEisQc6UPsJwE4pBlQw4wu4aMMIqN8vB0SPUQRFHF0KkcVNCSXeGQTFWQEIMXy9B2hSoQr0CuEFPOwJCxsisQK6GvMEsdb8/wIHMP9VsPMDCTjlCBMsEQskMy8APxbNCa5eTwoYe1UFpY54/DhAdwJ/OWMCvXWlCccsnQYq9KkLJMhNC",
          "dtype": "f4"
         }
        }
       ],
       "layout": {
        "coloraxis": {
         "colorbar": {
          "len": 0.75,
          "thickness": 20,
          "title": {
           "text": "Similarity"
          },
          "x": 1.1
         }
        },
        "height": 800,
        "scene": {
         "xaxis": {
          "title": {
           "text": "TSNE 1"
          }
         },
         "yaxis": {
          "title": {
           "text": "TSNE 2"
          }
         },
         "zaxis": {
          "title": {
           "text": "TSNE 3"
          }
         }
        },
        "template": {
         "data": {
          "bar": [
           {
            "error_x": {
             "color": "#2a3f5f"
            },
            "error_y": {
             "color": "#2a3f5f"
            },
            "marker": {
             "line": {
              "color": "#E5ECF6",
              "width": 0.5
             },
             "pattern": {
              "fillmode": "overlay",
              "size": 10,
              "solidity": 0.2
             }
            },
            "type": "bar"
           }
          ],
          "barpolar": [
           {
            "marker": {
             "line": {
              "color": "#E5ECF6",
              "width": 0.5
             },
             "pattern": {
              "fillmode": "overlay",
              "size": 10,
              "solidity": 0.2
             }
            },
            "type": "barpolar"
           }
          ],
          "carpet": [
           {
            "aaxis": {
             "endlinecolor": "#2a3f5f",
             "gridcolor": "white",
             "linecolor": "white",
             "minorgridcolor": "white",
             "startlinecolor": "#2a3f5f"
            },
            "baxis": {
             "endlinecolor": "#2a3f5f",
             "gridcolor": "white",
             "linecolor": "white",
             "minorgridcolor": "white",
             "startlinecolor": "#2a3f5f"
            },
            "type": "carpet"
           }
          ],
          "choropleth": [
           {
            "colorbar": {
             "outlinewidth": 0,
             "ticks": ""
            },
            "type": "choropleth"
           }
          ],
          "contour": [
           {
            "colorbar": {
             "outlinewidth": 0,
             "ticks": ""
            },
            "colorscale": [
             [
              0,
              "#0d0887"
             ],
             [
              0.1111111111111111,
              "#46039f"
             ],
             [
              0.2222222222222222,
              "#7201a8"
             ],
             [
              0.3333333333333333,
              "#9c179e"
             ],
             [
              0.4444444444444444,
              "#bd3786"
             ],
             [
              0.5555555555555556,
              "#d8576b"
             ],
             [
              0.6666666666666666,
              "#ed7953"
             ],
             [
              0.7777777777777778,
              "#fb9f3a"
             ],
             [
              0.8888888888888888,
              "#fdca26"
             ],
             [
              1,
              "#f0f921"
             ]
            ],
            "type": "contour"
           }
          ],
          "contourcarpet": [
           {
            "colorbar": {
             "outlinewidth": 0,
             "ticks": ""
            },
            "type": "contourcarpet"
           }
          ],
          "heatmap": [
           {
            "colorbar": {
             "outlinewidth": 0,
             "ticks": ""
            },
            "colorscale": [
             [
              0,
              "#0d0887"
             ],
             [
              0.1111111111111111,
              "#46039f"
             ],
             [
              0.2222222222222222,
              "#7201a8"
             ],
             [
              0.3333333333333333,
              "#9c179e"
             ],
             [
              0.4444444444444444,
              "#bd3786"
             ],
             [
              0.5555555555555556,
              "#d8576b"
             ],
             [
              0.6666666666666666,
              "#ed7953"
             ],
             [
              0.7777777777777778,
              "#fb9f3a"
             ],
             [
              0.8888888888888888,
              "#fdca26"
             ],
             [
              1,
              "#f0f921"
             ]
            ],
            "type": "heatmap"
           }
          ],
          "histogram": [
           {
            "marker": {
             "pattern": {
              "fillmode": "overlay",
              "size": 10,
              "solidity": 0.2
             }
            },
            "type": "histogram"
           }
          ],
          "histogram2d": [
           {
            "colorbar": {
             "outlinewidth": 0,
             "ticks": ""
            },
            "colorscale": [
             [
              0,
              "#0d0887"
             ],
             [
              0.1111111111111111,
              "#46039f"
             ],
             [
              0.2222222222222222,
              "#7201a8"
             ],
             [
              0.3333333333333333,
              "#9c179e"
             ],
             [
              0.4444444444444444,
              "#bd3786"
             ],
             [
              0.5555555555555556,
              "#d8576b"
             ],
             [
              0.6666666666666666,
              "#ed7953"
             ],
             [
              0.7777777777777778,
              "#fb9f3a"
             ],
             [
              0.8888888888888888,
              "#fdca26"
             ],
             [
              1,
              "#f0f921"
             ]
            ],
            "type": "histogram2d"
           }
          ],
          "histogram2dcontour": [
           {
            "colorbar": {
             "outlinewidth": 0,
             "ticks": ""
            },
            "colorscale": [
             [
              0,
              "#0d0887"
             ],
             [
              0.1111111111111111,
              "#46039f"
             ],
             [
              0.2222222222222222,
              "#7201a8"
             ],
             [
              0.3333333333333333,
              "#9c179e"
             ],
             [
              0.4444444444444444,
              "#bd3786"
             ],
             [
              0.5555555555555556,
              "#d8576b"
             ],
             [
              0.6666666666666666,
              "#ed7953"
             ],
             [
              0.7777777777777778,
              "#fb9f3a"
             ],
             [
              0.8888888888888888,
              "#fdca26"
             ],
             [
              1,
              "#f0f921"
             ]
            ],
            "type": "histogram2dcontour"
           }
          ],
          "mesh3d": [
           {
            "colorbar": {
             "outlinewidth": 0,
             "ticks": ""
            },
            "type": "mesh3d"
           }
          ],
          "parcoords": [
           {
            "line": {
             "colorbar": {
              "outlinewidth": 0,
              "ticks": ""
             }
            },
            "type": "parcoords"
           }
          ],
          "pie": [
           {
            "automargin": true,
            "type": "pie"
           }
          ],
          "scatter": [
           {
            "fillpattern": {
             "fillmode": "overlay",
             "size": 10,
             "solidity": 0.2
            },
            "type": "scatter"
           }
          ],
          "scatter3d": [
           {
            "line": {
             "colorbar": {
              "outlinewidth": 0,
              "ticks": ""
             }
            },
            "marker": {
             "colorbar": {
              "outlinewidth": 0,
              "ticks": ""
             }
            },
            "type": "scatter3d"
           }
          ],
          "scattercarpet": [
           {
            "marker": {
             "colorbar": {
              "outlinewidth": 0,
              "ticks": ""
             }
            },
            "type": "scattercarpet"
           }
          ],
          "scattergeo": [
           {
            "marker": {
             "colorbar": {
              "outlinewidth": 0,
              "ticks": ""
             }
            },
            "type": "scattergeo"
           }
          ],
          "scattergl": [
           {
            "marker": {
             "colorbar": {
              "outlinewidth": 0,
              "ticks": ""
             }
            },
            "type": "scattergl"
           }
          ],
          "scattermap": [
           {
            "marker": {
             "colorbar": {
              "outlinewidth": 0,
              "ticks": ""
             }
            },
            "type": "scattermap"
           }
          ],
          "scattermapbox": [
           {
            "marker": {
             "colorbar": {
              "outlinewidth": 0,
              "ticks": ""
             }
            },
            "type": "scattermapbox"
           }
          ],
          "scatterpolar": [
           {
            "marker": {
             "colorbar": {
              "outlinewidth": 0,
              "ticks": ""
             }
            },
            "type": "scatterpolar"
           }
          ],
          "scatterpolargl": [
           {
            "marker": {
             "colorbar": {
              "outlinewidth": 0,
              "ticks": ""
             }
            },
            "type": "scatterpolargl"
           }
          ],
          "scatterternary": [
           {
            "marker": {
             "colorbar": {
              "outlinewidth": 0,
              "ticks": ""
             }
            },
            "type": "scatterternary"
           }
          ],
          "surface": [
           {
            "colorbar": {
             "outlinewidth": 0,
             "ticks": ""
            },
            "colorscale": [
             [
              0,
              "#0d0887"
             ],
             [
              0.1111111111111111,
              "#46039f"
             ],
             [
              0.2222222222222222,
              "#7201a8"
             ],
             [
              0.3333333333333333,
              "#9c179e"
             ],
             [
              0.4444444444444444,
              "#bd3786"
             ],
             [
              0.5555555555555556,
              "#d8576b"
             ],
             [
              0.6666666666666666,
              "#ed7953"
             ],
             [
              0.7777777777777778,
              "#fb9f3a"
             ],
             [
              0.8888888888888888,
              "#fdca26"
             ],
             [
              1,
              "#f0f921"
             ]
            ],
            "type": "surface"
           }
          ],
          "table": [
           {
            "cells": {
             "fill": {
              "color": "#EBF0F8"
             },
             "line": {
              "color": "white"
             }
            },
            "header": {
             "fill": {
              "color": "#C8D4E3"
             },
             "line": {
              "color": "white"
             }
            },
            "type": "table"
           }
          ]
         },
         "layout": {
          "annotationdefaults": {
           "arrowcolor": "#2a3f5f",
           "arrowhead": 0,
           "arrowwidth": 1
          },
          "autotypenumbers": "strict",
          "coloraxis": {
           "colorbar": {
            "outlinewidth": 0,
            "ticks": ""
           }
          },
          "colorscale": {
           "diverging": [
            [
             0,
             "#8e0152"
            ],
            [
             0.1,
             "#c51b7d"
            ],
            [
             0.2,
             "#de77ae"
            ],
            [
             0.3,
             "#f1b6da"
            ],
            [
             0.4,
             "#fde0ef"
            ],
            [
             0.5,
             "#f7f7f7"
            ],
            [
             0.6,
             "#e6f5d0"
            ],
            [
             0.7,
             "#b8e186"
            ],
            [
             0.8,
             "#7fbc41"
            ],
            [
             0.9,
             "#4d9221"
            ],
            [
             1,
             "#276419"
            ]
           ],
           "sequential": [
            [
             0,
             "#0d0887"
            ],
            [
             0.1111111111111111,
             "#46039f"
            ],
            [
             0.2222222222222222,
             "#7201a8"
            ],
            [
             0.3333333333333333,
             "#9c179e"
            ],
            [
             0.4444444444444444,
             "#bd3786"
            ],
            [
             0.5555555555555556,
             "#d8576b"
            ],
            [
             0.6666666666666666,
             "#ed7953"
            ],
            [
             0.7777777777777778,
             "#fb9f3a"
            ],
            [
             0.8888888888888888,
             "#fdca26"
            ],
            [
             1,
             "#f0f921"
            ]
           ],
           "sequentialminus": [
            [
             0,
             "#0d0887"
            ],
            [
             0.1111111111111111,
             "#46039f"
            ],
            [
             0.2222222222222222,
             "#7201a8"
            ],
            [
             0.3333333333333333,
             "#9c179e"
            ],
            [
             0.4444444444444444,
             "#bd3786"
            ],
            [
             0.5555555555555556,
             "#d8576b"
            ],
            [
             0.6666666666666666,
             "#ed7953"
            ],
            [
             0.7777777777777778,
             "#fb9f3a"
            ],
            [
             0.8888888888888888,
             "#fdca26"
            ],
            [
             1,
             "#f0f921"
            ]
           ]
          },
          "colorway": [
           "#636efa",
           "#EF553B",
           "#00cc96",
           "#ab63fa",
           "#FFA15A",
           "#19d3f3",
           "#FF6692",
           "#B6E880",
           "#FF97FF",
           "#FECB52"
          ],
          "font": {
           "color": "#2a3f5f"
          },
          "geo": {
           "bgcolor": "white",
           "lakecolor": "white",
           "landcolor": "#E5ECF6",
           "showlakes": true,
           "showland": true,
           "subunitcolor": "white"
          },
          "hoverlabel": {
           "align": "left"
          },
          "hovermode": "closest",
          "mapbox": {
           "style": "light"
          },
          "paper_bgcolor": "white",
          "plot_bgcolor": "#E5ECF6",
          "polar": {
           "angularaxis": {
            "gridcolor": "white",
            "linecolor": "white",
            "ticks": ""
           },
           "bgcolor": "#E5ECF6",
           "radialaxis": {
            "gridcolor": "white",
            "linecolor": "white",
            "ticks": ""
           }
          },
          "scene": {
           "xaxis": {
            "backgroundcolor": "#E5ECF6",
            "gridcolor": "white",
            "gridwidth": 2,
            "linecolor": "white",
            "showbackground": true,
            "ticks": "",
            "zerolinecolor": "white"
           },
           "yaxis": {
            "backgroundcolor": "#E5ECF6",
            "gridcolor": "white",
            "gridwidth": 2,
            "linecolor": "white",
            "showbackground": true,
            "ticks": "",
            "zerolinecolor": "white"
           },
           "zaxis": {
            "backgroundcolor": "#E5ECF6",
            "gridcolor": "white",
            "gridwidth": 2,
            "linecolor": "white",
            "showbackground": true,
            "ticks": "",
            "zerolinecolor": "white"
           }
          },
          "shapedefaults": {
           "line": {
            "color": "#2a3f5f"
           }
          },
          "ternary": {
           "aaxis": {
            "gridcolor": "white",
            "linecolor": "white",
            "ticks": ""
           },
           "baxis": {
            "gridcolor": "white",
            "linecolor": "white",
            "ticks": ""
           },
           "bgcolor": "#E5ECF6",
           "caxis": {
            "gridcolor": "white",
            "linecolor": "white",
            "ticks": ""
           }
          },
          "title": {
           "x": 0.05
          },
          "xaxis": {
           "automargin": true,
           "gridcolor": "white",
           "linecolor": "white",
           "ticks": "",
           "title": {
            "standoff": 15
           },
           "zerolinecolor": "white",
           "zerolinewidth": 2
          },
          "yaxis": {
           "automargin": true,
           "gridcolor": "white",
           "linecolor": "white",
           "ticks": "",
           "title": {
            "standoff": 15
           },
           "zerolinecolor": "white",
           "zerolinewidth": 2
          }
         }
        },
        "title": {
         "text": "3D Scatter Plot of Word Vectors for 'computer'"
        },
        "width": 1000
       }
      }
     },
     "metadata": {},
     "output_type": "display_data"
    }
   ],
   "source": [
    "from sklearn.manifold import TSNE\n",
    "\n",
    "# Reduce to 3 dimensions using t-SNE\n",
    "tsne = TSNE(n_components=3, random_state=42)\n",
    "reduced_data = tsne.fit_transform(wv[words])\n",
    "\n",
    "colors = np.array([wv.similarity(center_word, word) for word in words])\n",
    "# Create a 3D scatter plot\n",
    "fig = go.Figure(data=[go.Scatter3d(\n",
    "    x=reduced_data[:, 0],\n",
    "    y=reduced_data[:, 1],\n",
    "    z=reduced_data[:, 2],\n",
    "    mode='markers+text',\n",
    "    marker=dict(\n",
    "        size=5,\n",
    "        color=colors,\n",
    "        colorscale='Plasma',\n",
    "        opacity=0.8\n",
    "    ),\n",
    "    text=words  # Add word labels\n",
    ")])\n",
    "\n",
    "fig.update_layout(\n",
    "    title=f\"3D Scatter Plot of Word Vectors for '{center_word}'\",\n",
    "    scene=dict(\n",
    "        xaxis_title='TSNE 1',\n",
    "        yaxis_title='TSNE 2',\n",
    "        zaxis_title='TSNE 3'\n",
    "    ),\n",
    "    coloraxis_colorbar=dict(\n",
    "        title=\"Similarity\",\n",
    "        thickness=20,\n",
    "        len=0.75,\n",
    "        x=1.1  # Position the colorbar slightly outside the plot\n",
    "    ),\n",
    "    width=1000,\n",
    "    height=800,\n",
    ")\n",
    "\n",
    "fig.show()"
   ]
  },
  {
   "cell_type": "code",
   "execution_count": 123,
   "id": "c14021da",
   "metadata": {},
   "outputs": [
    {
     "name": "stderr",
     "output_type": "stream",
     "text": [
      "c:\\Users\\jonas\\code\\Exploring-text-embeddings-and-transformer-models\\.venv\\Lib\\site-packages\\sklearn\\utils\\deprecation.py:151: FutureWarning:\n",
      "\n",
      "'force_all_finite' was renamed to 'ensure_all_finite' in 1.6 and will be removed in 1.8.\n",
      "\n",
      "c:\\Users\\jonas\\code\\Exploring-text-embeddings-and-transformer-models\\.venv\\Lib\\site-packages\\umap\\umap_.py:1952: UserWarning:\n",
      "\n",
      "n_jobs value 1 overridden to 1 by setting random_state. Use no seed for parallelism.\n",
      "\n"
     ]
    },
    {
     "data": {
      "application/vnd.plotly.v1+json": {
       "config": {
        "plotlyServerURL": "https://plot.ly"
       },
       "data": [
        {
         "marker": {
          "color": {
           "bdata": "658+P2+UBT+/awA/c5X2PjA89D7aMPQ+5IHzPkQT8T5c5vA+xHzwPqys7D5Jnus+WnTrPv9d6z4KhOo+4dbpPiPF6T7Goug+0yXoPtYl5z5nFuc+htzmPpaT5j4lUuY+1P7lPoiT5T5sjuU+LYjlPrYe5T6v7eQ+y3TkPtMl5D4NZOI+2/3hPlGl4T5ji+E+BEDhPtOw4D47g+A+XLHfPhNo3z5XId8+axjfPp/w3j7KsN4+MkvePmzb3T5Upt0+oDPdPiYW3T7CDN0+FmncPtVl3D6UH9w+MQbcPiHu2z6TC9s+lgfbPnjx2j7CIto+VujZPtTd2T4L3Nk+FWHZPkAv2T5i49g+PdXYPsN+2D6ectg+fO3XPoHP1z5hstc+eq3XPiqf1z4vcNc+6eXWPgvW1j7jzdY+8MjWPoeV1j4ZldY+m5TWPliC1j7yd9Y+dkLWPmMo1j5YINY+9w3WPifh1T65sNU+infVPiI91T7TGdU+h8rUPvek1D6MmNQ+v3/UPrhy1D5WbtQ+jSzUPg==",
           "dtype": "f4"
          },
          "colorscale": [
           [
            0,
            "#0d0887"
           ],
           [
            0.1111111111111111,
            "#46039f"
           ],
           [
            0.2222222222222222,
            "#7201a8"
           ],
           [
            0.3333333333333333,
            "#9c179e"
           ],
           [
            0.4444444444444444,
            "#bd3786"
           ],
           [
            0.5555555555555556,
            "#d8576b"
           ],
           [
            0.6666666666666666,
            "#ed7953"
           ],
           [
            0.7777777777777778,
            "#fb9f3a"
           ],
           [
            0.8888888888888888,
            "#fdca26"
           ],
           [
            1,
            "#f0f921"
           ]
          ],
          "opacity": 0.8,
          "size": 5
         },
         "mode": "markers+text",
         "text": [
          "models",
          "Model",
          "xenograft_mouse",
          "Brother_Nidal",
          "Smallpox_infection",
          "Forfour",
          "Amazonian_goddesses",
          "Pursuing_vertically_integrated",
          "PQ##_platform",
          "concept",
          "paradigm",
          "sporty_hatchback",
          "Vertrek",
          "polymorphous_sexuality",
          "Dealer_invoice",
          "razor_razor_blade",
          "proprietary_econometric",
          "actress_Angie_Everhart",
          "digiMedical_Solutions_TM",
          "Models",
          "chip_Tarnovsky_hacked",
          "coupé_cabriolet",
          "rebadged_version",
          "Crossfire_coupe",
          "G##_Sedans",
          "V##_wagons",
          "template",
          "TT_Coupé",
          "Jaguar_XK_coupe",
          "modeling",
          "busty_glamor",
          "hardtop_convertible",
          "sporty_roadster",
          "humanized_mouse",
          "pacifying_restive_Sunni",
          "Honda_Accord_Coupe",
          "Rosie_Huntington_Whitely",
          "Sagitar",
          "cee'd_SW",
          "grand_tourer",
          "Styling_wise",
          "Skoda_Roomster",
          "stochastic_simulation",
          "Flex_crossover",
          "RAV4_compact_SUVs",
          "Range_Rover_TDV8",
          "sportback",
          "supercharged_V6",
          "A3_hatchback",
          "BMW_X3_xDrive##d",
          "BlueSport",
          "CLS##_AMG",
          "razor_razorblade",
          "hybird",
          "FEA_valuation",
          "CLK_Cabriolet",
          "Lexus_LX_###s",
          "Iosis_X",
          "Prediction_API",
          "Opel_Vauxhall_Astra",
          "coupe_cabriolet",
          "#x#_drivetrain",
          "Astra_hatchback",
          "SI_swimsuit",
          "Transit_SportVan",
          "WRX_sedan",
          "Pentastar_engine",
          "A6_sedan",
          "unibody_chassis",
          "midengine",
          "Tata_Indica_eV2",
          "internal_combustion_engined",
          "Dyna_Glide",
          "BYD_F3",
          "Townpod",
          "sportier_styling",
          "Cayenne_GTS",
          "Duramax_diesel_engine",
          "rebodied",
          "IBM_worksite_wellness",
          "Chevy_Cruze_compact",
          "variant",
          "Clio_Renault",
          "A5_Sportback",
          "XJ_sedan",
          "Multiair_engine",
          "Alfa_8C_Spider",
          "Mondeo_sedan",
          "sports_tourer",
          "prototype",
          "Reference_SCOR",
          "Long_Wheelbase",
          "Acabion",
          "nurturant_parent",
          "carbon_fiber_monocoque",
          "Vision_Efficient_Dynamics",
          "FT_SX",
          "C##_coupe",
          "coupe_convertible",
          "newer_sleeker"
         ],
         "type": "scatter3d",
         "x": {
          "bdata": "KwHFQHKuxkBCOMRAYkK8QN/9q0DKwLNA7svFQDRiu0A5EqtApIPQQMegzEAdx65AnLyuQDDos0CDLq1AW6q0QGSByUCuoMxA8c2vQMpKy0BjabtAdXKXQCYVv0AM8rpA68qxQFV+q0Dmh8pAcrqTQBMTokAvHtlA8a3VQI7hmkDct6tAXfLIQCgfuUAnCaBAt7TRQFyVvUBCUa1ADXiaQMjytEC6UK5Aho/QQK28uUAghKpA/dmxQELvpkAY4Y1Ahu6vQBFqk0AH/a9AvKeNQIWsuECufsNAy+/RQEMtn0AZLKhA1oHFQCDNvUB2JbhAAIqbQJ2JlkAu5b1AAOnaQOV/wUCkwpdAuTOcQLzKsECn8pFAwfGRQEfisEBLj6FAwoC8QPWQr0ADbs9ALNOyQO5ClEDpFpZAPLuUQAXcqkAAPbVAEDubQMI0kkBRTbBAXPiaQLcaqUCmFKVAhF/CQM4HoEDiN81AwLm+QD7fm0DXC4pAK5LFQK+1j0B1UcVAM9nSQBUxqEBH7p5AIDG+QA==",
          "dtype": "f4"
         },
         "y": {
          "bdata": "T0nvQEY/AUEF+AxBnbcLQXQAE0EqlL1ALNIIQT+JFEH7g/hAhS/fQE5qCEFql6BAByWsQDJyC0EtyQZBO3YOQRMjEEEjGglBUlYUQS89+UDd3Q9BdQqnQJvB10Bpkt5AA5P+QIR5AkHUDQhBmHTVQOwyxkCajg1BjO8MQVPOmkB0e9dADxcOQV9TEEHOHsRAMDgHQWlMxEDyWdZANSqcQFoV4UC/d7NATU8NQaw2qkDtNAZB/ff+QBBpt0BHNLdAkFLCQMTGyED+McVAVzmjQFYKEUEeIuNAzpIOQane40AANAVB7UbYQBiHAkGrFsFAZMKgQMnJ9EDooM1As1EIQbcl8UDiqO9AjCPVQN7Gt0A3Hd5AAgGuQCkv8UBj/PJAWJIAQXnG4UA0JdlAvTThQI9KmkBrX+FA5eytQCfMDUFMdNJADtjEQHcezkBKjaJAhiquQH2lAEFCKeJA5Oi9QOMJmUBkk9dAoTsTQTr+skDGmc9ADDQIQUQ4tkAZLshAc2/QQEFqrEDotJ9ADtT1QA==",
          "dtype": "f4"
         },
         "z": {
          "bdata": "+MmrQG5/nUCA+IFAk2SQQP/8iEACdaFAxDeQQOlujkAjT5NAv1CUQB+ba0BK8p9AU36TQL2xl0Aov65A8kl4QIIrbEC5GqJAwv6MQJBEqUCT6otA5hyoQAr5mkCY/YZATHepQIUep0AxqllAQGimQNuSrkDd3ZFAALueQCY5sEBEfqlAgZmAQKQfm0DEdrNAt4mlQDZAk0CZAIxAVDebQN9QrEDEzrRAV5FuQMg/lUDSeLZADpaKQM6bnUA1q6NAOIiYQJP2mUDKVLNAifmgQFMccEBxyYtA+JeLQK3JqkBAB7NAk3WSQHTRY0Bf74FAZ261QFbPjUDtp4JAM6ShQOw6jUCGCpVA2lmIQDVBlUBeAZtAkLeSQFTkf0B8UYVAuPeCQGOilUBvwKJACvqjQIzIokDzCIhAs5iUQB+KiUCqjoVA5g+hQH1ErUDfX6BAIKKrQCHvd0Dap6VAq2WMQHkCnUAnjqlA1Gt+QNLytkDnj5tAIntqQBvmk0CxUK1AjsedQBbMrUDU0LdA9KGFQA==",
          "dtype": "f4"
         }
        }
       ],
       "layout": {
        "coloraxis": {
         "colorbar": {
          "len": 0.75,
          "thickness": 20,
          "title": {
           "text": "Similarity"
          },
          "x": 1.1
         }
        },
        "height": 800,
        "scene": {
         "xaxis": {
          "title": {
           "text": "UMAP 1"
          }
         },
         "yaxis": {
          "title": {
           "text": "UMAP 2"
          }
         },
         "zaxis": {
          "title": {
           "text": "UMAP 3"
          }
         }
        },
        "template": {
         "data": {
          "bar": [
           {
            "error_x": {
             "color": "#2a3f5f"
            },
            "error_y": {
             "color": "#2a3f5f"
            },
            "marker": {
             "line": {
              "color": "#E5ECF6",
              "width": 0.5
             },
             "pattern": {
              "fillmode": "overlay",
              "size": 10,
              "solidity": 0.2
             }
            },
            "type": "bar"
           }
          ],
          "barpolar": [
           {
            "marker": {
             "line": {
              "color": "#E5ECF6",
              "width": 0.5
             },
             "pattern": {
              "fillmode": "overlay",
              "size": 10,
              "solidity": 0.2
             }
            },
            "type": "barpolar"
           }
          ],
          "carpet": [
           {
            "aaxis": {
             "endlinecolor": "#2a3f5f",
             "gridcolor": "white",
             "linecolor": "white",
             "minorgridcolor": "white",
             "startlinecolor": "#2a3f5f"
            },
            "baxis": {
             "endlinecolor": "#2a3f5f",
             "gridcolor": "white",
             "linecolor": "white",
             "minorgridcolor": "white",
             "startlinecolor": "#2a3f5f"
            },
            "type": "carpet"
           }
          ],
          "choropleth": [
           {
            "colorbar": {
             "outlinewidth": 0,
             "ticks": ""
            },
            "type": "choropleth"
           }
          ],
          "contour": [
           {
            "colorbar": {
             "outlinewidth": 0,
             "ticks": ""
            },
            "colorscale": [
             [
              0,
              "#0d0887"
             ],
             [
              0.1111111111111111,
              "#46039f"
             ],
             [
              0.2222222222222222,
              "#7201a8"
             ],
             [
              0.3333333333333333,
              "#9c179e"
             ],
             [
              0.4444444444444444,
              "#bd3786"
             ],
             [
              0.5555555555555556,
              "#d8576b"
             ],
             [
              0.6666666666666666,
              "#ed7953"
             ],
             [
              0.7777777777777778,
              "#fb9f3a"
             ],
             [
              0.8888888888888888,
              "#fdca26"
             ],
             [
              1,
              "#f0f921"
             ]
            ],
            "type": "contour"
           }
          ],
          "contourcarpet": [
           {
            "colorbar": {
             "outlinewidth": 0,
             "ticks": ""
            },
            "type": "contourcarpet"
           }
          ],
          "heatmap": [
           {
            "colorbar": {
             "outlinewidth": 0,
             "ticks": ""
            },
            "colorscale": [
             [
              0,
              "#0d0887"
             ],
             [
              0.1111111111111111,
              "#46039f"
             ],
             [
              0.2222222222222222,
              "#7201a8"
             ],
             [
              0.3333333333333333,
              "#9c179e"
             ],
             [
              0.4444444444444444,
              "#bd3786"
             ],
             [
              0.5555555555555556,
              "#d8576b"
             ],
             [
              0.6666666666666666,
              "#ed7953"
             ],
             [
              0.7777777777777778,
              "#fb9f3a"
             ],
             [
              0.8888888888888888,
              "#fdca26"
             ],
             [
              1,
              "#f0f921"
             ]
            ],
            "type": "heatmap"
           }
          ],
          "histogram": [
           {
            "marker": {
             "pattern": {
              "fillmode": "overlay",
              "size": 10,
              "solidity": 0.2
             }
            },
            "type": "histogram"
           }
          ],
          "histogram2d": [
           {
            "colorbar": {
             "outlinewidth": 0,
             "ticks": ""
            },
            "colorscale": [
             [
              0,
              "#0d0887"
             ],
             [
              0.1111111111111111,
              "#46039f"
             ],
             [
              0.2222222222222222,
              "#7201a8"
             ],
             [
              0.3333333333333333,
              "#9c179e"
             ],
             [
              0.4444444444444444,
              "#bd3786"
             ],
             [
              0.5555555555555556,
              "#d8576b"
             ],
             [
              0.6666666666666666,
              "#ed7953"
             ],
             [
              0.7777777777777778,
              "#fb9f3a"
             ],
             [
              0.8888888888888888,
              "#fdca26"
             ],
             [
              1,
              "#f0f921"
             ]
            ],
            "type": "histogram2d"
           }
          ],
          "histogram2dcontour": [
           {
            "colorbar": {
             "outlinewidth": 0,
             "ticks": ""
            },
            "colorscale": [
             [
              0,
              "#0d0887"
             ],
             [
              0.1111111111111111,
              "#46039f"
             ],
             [
              0.2222222222222222,
              "#7201a8"
             ],
             [
              0.3333333333333333,
              "#9c179e"
             ],
             [
              0.4444444444444444,
              "#bd3786"
             ],
             [
              0.5555555555555556,
              "#d8576b"
             ],
             [
              0.6666666666666666,
              "#ed7953"
             ],
             [
              0.7777777777777778,
              "#fb9f3a"
             ],
             [
              0.8888888888888888,
              "#fdca26"
             ],
             [
              1,
              "#f0f921"
             ]
            ],
            "type": "histogram2dcontour"
           }
          ],
          "mesh3d": [
           {
            "colorbar": {
             "outlinewidth": 0,
             "ticks": ""
            },
            "type": "mesh3d"
           }
          ],
          "parcoords": [
           {
            "line": {
             "colorbar": {
              "outlinewidth": 0,
              "ticks": ""
             }
            },
            "type": "parcoords"
           }
          ],
          "pie": [
           {
            "automargin": true,
            "type": "pie"
           }
          ],
          "scatter": [
           {
            "fillpattern": {
             "fillmode": "overlay",
             "size": 10,
             "solidity": 0.2
            },
            "type": "scatter"
           }
          ],
          "scatter3d": [
           {
            "line": {
             "colorbar": {
              "outlinewidth": 0,
              "ticks": ""
             }
            },
            "marker": {
             "colorbar": {
              "outlinewidth": 0,
              "ticks": ""
             }
            },
            "type": "scatter3d"
           }
          ],
          "scattercarpet": [
           {
            "marker": {
             "colorbar": {
              "outlinewidth": 0,
              "ticks": ""
             }
            },
            "type": "scattercarpet"
           }
          ],
          "scattergeo": [
           {
            "marker": {
             "colorbar": {
              "outlinewidth": 0,
              "ticks": ""
             }
            },
            "type": "scattergeo"
           }
          ],
          "scattergl": [
           {
            "marker": {
             "colorbar": {
              "outlinewidth": 0,
              "ticks": ""
             }
            },
            "type": "scattergl"
           }
          ],
          "scattermap": [
           {
            "marker": {
             "colorbar": {
              "outlinewidth": 0,
              "ticks": ""
             }
            },
            "type": "scattermap"
           }
          ],
          "scattermapbox": [
           {
            "marker": {
             "colorbar": {
              "outlinewidth": 0,
              "ticks": ""
             }
            },
            "type": "scattermapbox"
           }
          ],
          "scatterpolar": [
           {
            "marker": {
             "colorbar": {
              "outlinewidth": 0,
              "ticks": ""
             }
            },
            "type": "scatterpolar"
           }
          ],
          "scatterpolargl": [
           {
            "marker": {
             "colorbar": {
              "outlinewidth": 0,
              "ticks": ""
             }
            },
            "type": "scatterpolargl"
           }
          ],
          "scatterternary": [
           {
            "marker": {
             "colorbar": {
              "outlinewidth": 0,
              "ticks": ""
             }
            },
            "type": "scatterternary"
           }
          ],
          "surface": [
           {
            "colorbar": {
             "outlinewidth": 0,
             "ticks": ""
            },
            "colorscale": [
             [
              0,
              "#0d0887"
             ],
             [
              0.1111111111111111,
              "#46039f"
             ],
             [
              0.2222222222222222,
              "#7201a8"
             ],
             [
              0.3333333333333333,
              "#9c179e"
             ],
             [
              0.4444444444444444,
              "#bd3786"
             ],
             [
              0.5555555555555556,
              "#d8576b"
             ],
             [
              0.6666666666666666,
              "#ed7953"
             ],
             [
              0.7777777777777778,
              "#fb9f3a"
             ],
             [
              0.8888888888888888,
              "#fdca26"
             ],
             [
              1,
              "#f0f921"
             ]
            ],
            "type": "surface"
           }
          ],
          "table": [
           {
            "cells": {
             "fill": {
              "color": "#EBF0F8"
             },
             "line": {
              "color": "white"
             }
            },
            "header": {
             "fill": {
              "color": "#C8D4E3"
             },
             "line": {
              "color": "white"
             }
            },
            "type": "table"
           }
          ]
         },
         "layout": {
          "annotationdefaults": {
           "arrowcolor": "#2a3f5f",
           "arrowhead": 0,
           "arrowwidth": 1
          },
          "autotypenumbers": "strict",
          "coloraxis": {
           "colorbar": {
            "outlinewidth": 0,
            "ticks": ""
           }
          },
          "colorscale": {
           "diverging": [
            [
             0,
             "#8e0152"
            ],
            [
             0.1,
             "#c51b7d"
            ],
            [
             0.2,
             "#de77ae"
            ],
            [
             0.3,
             "#f1b6da"
            ],
            [
             0.4,
             "#fde0ef"
            ],
            [
             0.5,
             "#f7f7f7"
            ],
            [
             0.6,
             "#e6f5d0"
            ],
            [
             0.7,
             "#b8e186"
            ],
            [
             0.8,
             "#7fbc41"
            ],
            [
             0.9,
             "#4d9221"
            ],
            [
             1,
             "#276419"
            ]
           ],
           "sequential": [
            [
             0,
             "#0d0887"
            ],
            [
             0.1111111111111111,
             "#46039f"
            ],
            [
             0.2222222222222222,
             "#7201a8"
            ],
            [
             0.3333333333333333,
             "#9c179e"
            ],
            [
             0.4444444444444444,
             "#bd3786"
            ],
            [
             0.5555555555555556,
             "#d8576b"
            ],
            [
             0.6666666666666666,
             "#ed7953"
            ],
            [
             0.7777777777777778,
             "#fb9f3a"
            ],
            [
             0.8888888888888888,
             "#fdca26"
            ],
            [
             1,
             "#f0f921"
            ]
           ],
           "sequentialminus": [
            [
             0,
             "#0d0887"
            ],
            [
             0.1111111111111111,
             "#46039f"
            ],
            [
             0.2222222222222222,
             "#7201a8"
            ],
            [
             0.3333333333333333,
             "#9c179e"
            ],
            [
             0.4444444444444444,
             "#bd3786"
            ],
            [
             0.5555555555555556,
             "#d8576b"
            ],
            [
             0.6666666666666666,
             "#ed7953"
            ],
            [
             0.7777777777777778,
             "#fb9f3a"
            ],
            [
             0.8888888888888888,
             "#fdca26"
            ],
            [
             1,
             "#f0f921"
            ]
           ]
          },
          "colorway": [
           "#636efa",
           "#EF553B",
           "#00cc96",
           "#ab63fa",
           "#FFA15A",
           "#19d3f3",
           "#FF6692",
           "#B6E880",
           "#FF97FF",
           "#FECB52"
          ],
          "font": {
           "color": "#2a3f5f"
          },
          "geo": {
           "bgcolor": "white",
           "lakecolor": "white",
           "landcolor": "#E5ECF6",
           "showlakes": true,
           "showland": true,
           "subunitcolor": "white"
          },
          "hoverlabel": {
           "align": "left"
          },
          "hovermode": "closest",
          "mapbox": {
           "style": "light"
          },
          "paper_bgcolor": "white",
          "plot_bgcolor": "#E5ECF6",
          "polar": {
           "angularaxis": {
            "gridcolor": "white",
            "linecolor": "white",
            "ticks": ""
           },
           "bgcolor": "#E5ECF6",
           "radialaxis": {
            "gridcolor": "white",
            "linecolor": "white",
            "ticks": ""
           }
          },
          "scene": {
           "xaxis": {
            "backgroundcolor": "#E5ECF6",
            "gridcolor": "white",
            "gridwidth": 2,
            "linecolor": "white",
            "showbackground": true,
            "ticks": "",
            "zerolinecolor": "white"
           },
           "yaxis": {
            "backgroundcolor": "#E5ECF6",
            "gridcolor": "white",
            "gridwidth": 2,
            "linecolor": "white",
            "showbackground": true,
            "ticks": "",
            "zerolinecolor": "white"
           },
           "zaxis": {
            "backgroundcolor": "#E5ECF6",
            "gridcolor": "white",
            "gridwidth": 2,
            "linecolor": "white",
            "showbackground": true,
            "ticks": "",
            "zerolinecolor": "white"
           }
          },
          "shapedefaults": {
           "line": {
            "color": "#2a3f5f"
           }
          },
          "ternary": {
           "aaxis": {
            "gridcolor": "white",
            "linecolor": "white",
            "ticks": ""
           },
           "baxis": {
            "gridcolor": "white",
            "linecolor": "white",
            "ticks": ""
           },
           "bgcolor": "#E5ECF6",
           "caxis": {
            "gridcolor": "white",
            "linecolor": "white",
            "ticks": ""
           }
          },
          "title": {
           "x": 0.05
          },
          "xaxis": {
           "automargin": true,
           "gridcolor": "white",
           "linecolor": "white",
           "ticks": "",
           "title": {
            "standoff": 15
           },
           "zerolinecolor": "white",
           "zerolinewidth": 2
          },
          "yaxis": {
           "automargin": true,
           "gridcolor": "white",
           "linecolor": "white",
           "ticks": "",
           "title": {
            "standoff": 15
           },
           "zerolinecolor": "white",
           "zerolinewidth": 2
          }
         }
        },
        "title": {
         "text": "3D Scatter Plot of Word Vectors for 'model'"
        },
        "width": 1000
       }
      }
     },
     "metadata": {},
     "output_type": "display_data"
    }
   ],
   "source": [
    "import umap\n",
    "\n",
    "# Reduce to 3 dimensions using UMAP\n",
    "reducer = umap.UMAP(n_components=3, random_state=42)\n",
    "reduced_data = reducer.fit_transform(wv[words])  # Use wv[words] instead of data\n",
    "\n",
    "\n",
    "colors = np.array([wv.similarity(center_word, word) for word in words])\n",
    "# Create a 3D scatter plot\n",
    "fig = go.Figure(data=[go.Scatter3d(\n",
    "    x=reduced_data[:, 0],\n",
    "    y=reduced_data[:, 1],\n",
    "    z=reduced_data[:, 2],\n",
    "    mode='markers+text',\n",
    "    marker=dict(\n",
    "        size=5,\n",
    "        color=colors,\n",
    "        colorscale='Plasma',\n",
    "        opacity=0.8\n",
    "    ),\n",
    "    text=words  # Add word labels\n",
    ")])\n",
    "\n",
    "fig.update_layout(\n",
    "    title=f\"3D Scatter Plot of Word Vectors for '{center_word}'\",\n",
    "    scene=dict(\n",
    "        xaxis_title='UMAP 1',\n",
    "        yaxis_title='UMAP 2',\n",
    "        zaxis_title='UMAP 3'\n",
    "    ),\n",
    "    coloraxis_colorbar=dict(\n",
    "        title=\"Similarity\",\n",
    "        thickness=20,\n",
    "        len=0.75,\n",
    "        x=1.1  # Position the colorbar slightly outside the plot\n",
    "    ),\n",
    "    width=1000,\n",
    "    height=800,\n",
    ")\n",
    "\n",
    "fig.show()"
   ]
  }
 ],
 "metadata": {
  "kernelspec": {
   "display_name": ".venv",
   "language": "python",
   "name": "python3"
  },
  "language_info": {
   "codemirror_mode": {
    "name": "ipython",
    "version": 3
   },
   "file_extension": ".py",
   "mimetype": "text/x-python",
   "name": "python",
   "nbconvert_exporter": "python",
   "pygments_lexer": "ipython3",
   "version": "3.11.7"
  }
 },
 "nbformat": 4,
 "nbformat_minor": 5
}
