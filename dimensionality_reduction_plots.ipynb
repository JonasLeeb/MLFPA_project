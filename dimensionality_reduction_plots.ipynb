{
 "cells": [
  {
   "cell_type": "code",
   "execution_count": 1,
   "id": "6a52abb0",
   "metadata": {},
   "outputs": [],
   "source": [
    "%matplotlib widget\n",
    "import plotly.graph_objects as go\n",
    "import numpy as np"
   ]
  },
  {
   "cell_type": "markdown",
   "id": "0c8e0d59",
   "metadata": {},
   "source": [
    "# Word2Vec vectors"
   ]
  },
  {
   "cell_type": "code",
   "execution_count": 3,
   "id": "d1272dcb",
   "metadata": {},
   "outputs": [
    {
     "name": "stderr",
     "output_type": "stream",
     "text": [
      "INFO:gensim.utils:loading KeyedVectors object from models/word2vec-google-news-300.model\n"
     ]
    },
    {
     "name": "stdout",
     "output_type": "stream",
     "text": [
      "Model already exists, loading from file...\n"
     ]
    },
    {
     "name": "stderr",
     "output_type": "stream",
     "text": [
      "INFO:gensim.utils:loading vectors from models/word2vec-google-news-300.model.vectors.npy with mmap=None\n",
      "INFO:gensim.utils:KeyedVectors lifecycle event {'fname': 'models/word2vec-google-news-300.model', 'datetime': '2025-05-07T16:02:46.041898', 'gensim': '4.3.3', 'python': '3.11.7 | packaged by Anaconda, Inc. | (main, Dec 15 2023, 18:05:47) [MSC v.1916 64 bit (AMD64)]', 'platform': 'Windows-10-10.0.26100-SP0', 'event': 'loaded'}\n"
     ]
    },
    {
     "name": "stdout",
     "output_type": "stream",
     "text": [
      "Word2Vec model is ready to use.\n"
     ]
    }
   ],
   "source": [
    "import gensim.downloader as api\n",
    "import logging\n",
    "import os\n",
    "import gensim\n",
    "\n",
    "# Set up logging to display information\n",
    "logging.basicConfig(level=logging.INFO)\n",
    "\n",
    "# Define the model name\n",
    "model_name = 'word2vec-google-news-300'\n",
    "\n",
    "if os.path.isfile(\"models/word2vec-google-news-300.model\"):\n",
    "    print(\"Model already exists, loading from file...\")\n",
    "    # Load the model from the file\n",
    "    wv = gensim.models.KeyedVectors.load(\"models/word2vec-google-news-300.model\")\n",
    "else:\n",
    "    # Attempt to load the model\n",
    "    try:\n",
    "        print(f\"\\nAttempting to download '{model_name}' using gensim downloader...\")\n",
    "        # Load the model using gensim's downloader\n",
    "        wv = api.load(model_name)\n",
    "        print(\"\\nModel downloaded/loaded successfully!\")\n",
    "        print(f\"It is now cached in: {api.BASE_DIR}\")\n",
    "\n",
    "        # Save the Word2Vec model\n",
    "        if wv:\n",
    "            model_path = \"models/word2vec.model\"\n",
    "            print(f\"Saving the Word2Vec model to '{model_path}'...\")\n",
    "            wv.save(model_path)\n",
    "            print(\"Model saved successfully!\")\n",
    "        else:\n",
    "            print(\"Word2Vec model is not loaded, so it cannot be saved.\")\n",
    "\n",
    "    except Exception as e:\n",
    "        print(f\"\\nFailed to download or load using gensim downloader: {e}\")\n",
    "        wv = None  # Ensure wv is defined even if loading fails\n",
    "\n",
    "# Check if the model was loaded successfully\n",
    "if wv:\n",
    "    print(\"Word2Vec model is ready to use.\")\n",
    "else:\n",
    "    print(\"Word2Vec model could not be loaded.\")"
   ]
  },
  {
   "cell_type": "code",
   "execution_count": 130,
   "id": "78a5e3a1",
   "metadata": {},
   "outputs": [],
   "source": [
    "center_word = 'title'\t\n",
    "\n",
    "similar_words = wv.most_similar(center_word, topn=100)\n",
    "words = [word for word, score in similar_words]\n",
    "\n",
    "distances = [np.abs(wv[center_word] - wv[word]) for word in words]\n",
    "\n",
    "\n",
    "distances = np.sum(np.array(distances), axis=0)\n",
    "\n",
    "# Find the 3 shortest distances\n",
    "shortest_indices = np.argsort(distances)[:3]\n",
    "\n",
    "# Find the 3 longest distances\n",
    "longest_indices = np.argsort(distances)[-3:]\n",
    "\n",
    "# 3 random dimensions\n",
    "random_indices = np.random.choice(range(len(distances)), size=3, replace=False)\n",
    "\n",
    "\n",
    "# Find the dimensions where the words are most clustered\n",
    "distances_wfw = np.array([[np.abs(wv[word1] - wv[word2]) for word2 in words] for word1 in words])\n",
    "\n",
    "cluster_indices = np.zeros(distances_wfw.shape[2])\n",
    "\n",
    "for i in range(distances_wfw.shape[2]):\n",
    "    # find the distances to the 10 closest words to each word in every dimension\n",
    "    closest_words = np.sort(distances_wfw[:,:,i], axis=1)[:,1:10]\n",
    "\n",
    "    closest_sum = np.sum(closest_words)\n",
    "    cluster_indices[i] = np.argmin(closest_sum)\n",
    "\n",
    "cluster_indices = np.argsort(cluster_indices)[:3]\n",
    "    "
   ]
  },
  {
   "cell_type": "code",
   "execution_count": null,
   "id": "1d075e92",
   "metadata": {},
   "outputs": [
    {
     "data": {
      "text/plain": [
       "True"
      ]
     },
     "execution_count": 120,
     "metadata": {},
     "output_type": "execute_result"
    }
   ],
   "source": [
    "import webbrowser\n",
    "\n",
    "indices = cluster_indices\n",
    "\n",
    "# Example data\n",
    "vectors = [wv[words][:,indices[0]], wv[words][:,indices[1]], wv[words][:,indices[2]]] \n",
    "colors = np.array([wv.similarity(center_word, word) for word in words])\n",
    "# Create a 3D scatter plot\n",
    "fig = go.Figure(data=[go.Scatter3d(\n",
    "    x=vectors[0],\n",
    "    y=vectors[1],\n",
    "    z=vectors[2],\n",
    "    mode='markers+text',\n",
    "    marker=dict(\n",
    "        size=5,\n",
    "        color=colors,\n",
    "        colorscale='Plasma',\n",
    "        opacity=0.8\n",
    "    ),\n",
    "    text=words  # Add word labels\n",
    ")])\n",
    "\n",
    "fig.update_layout(\n",
    "    title=f\"3D Scatter Plot of Word Vectors for '{center_word}'\",\n",
    "    scene=dict(\n",
    "        xaxis_title=f'{indices[0]}-axis',\n",
    "        yaxis_title=f'{indices[1]}-axis',\n",
    "        zaxis_title=f'{indices[2]}-axis'\n",
    "    ),\n",
    "    coloraxis_colorbar=dict(\n",
    "        title=\"Similarity\",\n",
    "        thickness=20,\n",
    "        len=0.75,\n",
    "        x=1.1  # Position the colorbar slightly outside the plot\n",
    "    ),\n",
    "    width=1500,\n",
    "    height=1000,\n",
    ")\n",
    "\n",
    "# Save the plot as an HTML file and open it in the browser\n",
    "fig.write_html(\"word_vectors_plot.html\")\n",
    "webbrowser.open(\"word_vectors_plot.html\")"
   ]
  },
  {
   "cell_type": "code",
   "execution_count": 131,
   "id": "3dba34f1",
   "metadata": {},
   "outputs": [
    {
     "data": {
      "application/vnd.plotly.v1+json": {
       "config": {
        "plotlyServerURL": "https://plot.ly"
       },
       "data": [
        {
         "marker": {
          "color": {
           "bdata": "K4hBP6bWPj8B7DU/T9QaP+A8FT/4lhQ/J7wSP1l6Ej9ZXRA/MggPPzEbDT/86Qs/rskLP1yTCz9ifgs/724KPyCbCT8LAwk/UIkIP1IoBz/ZUQY/bRgFP0ftBD+mwQQ/nSwEP5iWAz+BFwM/I3QCP5IiAj9FqgE/UzMBP8suAD+5F/4+QMT9Pq8h/T7S//s+o0X7PkzI+j7bqPo+2VP6Pu8O+j5Qz/k+z4L4PuFR+D7KNPg+BXb2PuVs9j734PU++8f1PnWM9T7oQ/U+csj0PoZd9D7G1vM+iH7zPn898z4oy/I+F8nyPrXC8j4Hr/I+75XyPnYw8j4d4fE+14vxPmZ78T7vcfE+X3/wPrNm8D57T/A+QxTwPkvp7z4YHu8+bxrvPjHt7j6Kcu4+lUruPlke7j7qA+4+jvPtPrzm7T4L4e0+AcntPly57T5mb+0+PNbsPg7W7D4VeOw+JmbsPl0A7D4nzes+V4TrPktp6z6OVus+kQ/rPvX86j58xOo+WZvqPpeP6j5Yhuo+KYXqPg==",
           "dtype": "f4"
          },
          "colorscale": [
           [
            0,
            "#0d0887"
           ],
           [
            0.1111111111111111,
            "#46039f"
           ],
           [
            0.2222222222222222,
            "#7201a8"
           ],
           [
            0.3333333333333333,
            "#9c179e"
           ],
           [
            0.4444444444444444,
            "#bd3786"
           ],
           [
            0.5555555555555556,
            "#d8576b"
           ],
           [
            0.6666666666666666,
            "#ed7953"
           ],
           [
            0.7777777777777778,
            "#fb9f3a"
           ],
           [
            0.8888888888888888,
            "#fdca26"
           ],
           [
            1,
            "#f0f921"
           ]
          ],
          "opacity": 0.8,
          "size": 5
         },
         "mode": "markers+text",
         "text": [
          "championship",
          "crown",
          "titles",
          "championships",
          "champs",
          "champ",
          "champion",
          "championsip",
          "trophy",
          "chamionship",
          "wildcard_berth",
          "championhip",
          "champions",
          "title.The",
          "Titles",
          "berth",
          "semifinal_berth",
          "playoff_berth",
          "championshp",
          "titlist",
          "super_middleweight_belt",
          "Championship",
          "champi_onship",
          "Championshp",
          "Regular_Season_Championship",
          "ti_tle",
          "champ_ionship",
          "postseason_berth",
          "IBO_welterweight",
          "IBO_belt",
          "titlists",
          "titleist",
          "win",
          "undefeated",
          "Title",
          "cham_pionship",
          "postseason_berths",
          "runnerup",
          "WPIAL_playoff_berth",
          "Cruiserweight_Championship",
          "sectional_champs",
          "Tag_Titles",
          "champioship",
          "cham_pion",
          "finals",
          "semifinals",
          "bantamweight_crown",
          "sectional_crowns",
          "wildcard_berths",
          "Light_Welterweight_Title",
          "Super_Featherweight_title",
          "vacant_IBO_cruiserweight",
          "clinch",
          "crowns",
          "vacant_WBC_lightweight",
          "WBU_crown",
          "super_bantamweight_crown",
          "Champions",
          "NABF_belt",
          "titleholder",
          "NABF_super_middleweight",
          "Championsip",
          "WBF_belt",
          "middleweight_crown",
          "BCS_bowl_berths",
          "quarterfinal_berth",
          "vacant_NABA",
          "Welterweight_Title",
          "victory",
          "TAPPS_5A",
          "fi_nals",
          "Chamionship",
          "WBC_heavyweight_crown",
          "threepeat",
          "constructors_crown",
          "titleists",
          "Campeonatos_de_Parejas",
          "IBF_strap",
          "autobid",
          "Final_Four_berth",
          "Undefeated",
          "vacant_NABO",
          "Championships",
          "WNIT_berth",
          "WBO_Lightweight",
          "WBA_cruiserweight",
          "WBO_welterweight_belt",
          "Cruiserweight_Title",
          "Unified_Tag_Titles",
          "Champion",
          "playoff_berths",
          "gold_medal",
          "defending_champ",
          "POY_honors",
          "ROH_Tag_Titles",
          "runnerups",
          "Class_2A_1A",
          "Tag_Team_Championships",
          "welterweight_crown",
          "super_middleweight_crown"
         ],
         "type": "scatter3d",
         "x": {
          "bdata": "zNyOvx9IVr5jkNu9X1dhv/yBd78nmos9Pj7qPe2tqrywhbG+mfO3PZtneb/hYJS8YpGVvhQP2j4rRdw+7Piqv5iAAMAbwkDA4vr+u8NGjz0el2c/j5HAvkKMID5UeE0+zkBBv+UjBD9Da009LZFBwHNCZz+F7nk/rsObvSCScT5IY/C+rGKBv8GCEz/6deM9CKkVwFZBH78XvwC/6OCXP5ChJr9WqC4/j0sFPsdaAD/FnJO/2UXBv7ZcXD+fxVu9OSlFPFyKcz+uMZY/tho1P2aM6b6btxC+ZwJcP8+XfD9N5m8/gKEpPu1wPT8Mapc/FmthP9hIiT7wiFw/6pm1P80fJ7601eu/nEiAP2dttD+gqx6/grmuvvUTRj4FLLI+1DeAP6DIjr+Ga5q+sGmzPQsMFz91NVw/whXBPGFrAcClNxu+SrpjP/0Ty75ab9e+4Z14P+mgXz8TrlI/O+egP2BXID9ZlTg/rZQqwC+mvL7S3A+/jh8RPoC+MD+M+fK9dXf+vmMBXD8Z8aM/zpOEPw==",
          "dtype": "f4"
         },
         "y": {
          "bdata": "m3FPPyOnPz54YwA/IJGrP+gU6z98qe8/aGLPP5ISDr4Hf0o+1C89vhxB9L6H1eM8Zhu+P0VYqb5RgtM+Wx3rvj0FEL9vzZ6/+xp1PZ1jzT/rSMq+Xa1FPzCXh77fwVg9t4nTvuGczL44wHK9+i+sv8Y4u77mj86+px+8P+z6/j5+H12+kIHHPq3PuL5oQZw7WFFCv9LRoD+EUCq/yBNQvgwF/T7K3Cu+MvzjveYUBD/mAmQ/UySBPzTYk77jf2G9QCGuvg6Xrr4uzoe+ppTUvm1qRb6N5o4+RcAJv2Wa577h6Za+DlmXP0Vkz7477IM/Y8bjvpWB1j1cHPO+7gmdvgPr5r5YrtW+UrnCvihah74T7vC++1iVvU7F8r3cPQg+RcoGv+zErj1YiSa/5u0TvQl1B79FWwm/id/2vqNKo78+w/E9gt70vs/lrD8P9SG//hPEvldw1L5r3QG/u7YXvhf3EL+60po/zxhXv/3QYz6LYqE/l09svp8yE78P4lI87YJrPoUon75lc/i+bHTQvg==",
          "dtype": "f4"
         },
         "z": {
          "bdata": "saf7vb4fcL6qdOw+SuxtPfrwZb7yLfC+iDqdvUyqQT+Yvds+GsMeP2W0NL5bSAw/vvTRPXNoQD/oQXc+UmobvoUMlb8VVki/NhcxP4F9mL/2m669iYomPkVpSj/rByE/mrCyPtPdcz+rUzg/xFInv9DpHD4MClu/m7gWvyH/Xj4agvM+fWVFvylPTz6iA0E/C7sSvv6RTD638B4/PdBNvwF9uT6t55e/R9cqP+4WnD7oTrE8ePDvvoZ8b70uAA8/DW4iP27vWz52BTG/c+2zPpSaDT41Iuo+TqR4PesU3b3/qoC+RdjWPrOAjD3k2oa/K+C9PpG/ID/89yg97xYCwNA/RD/zc5S/E0jAvlA90r+FmjQ+W1AOP5YUPD+CpCE/MYkQv/XYNjxC4jC9eINSP8pL2j7IKO270vEqPxIZhb837iy/UqfEvjhbjb2MqCE/aYp1vZDiWD0idTe+LuSTv+1Muz6kW4U+nbosvsDdib5Ugom+dLdeP4wp3z7+qjI/6brrPtCauT2L9vO/ch4Ivw==",
          "dtype": "f4"
         }
        }
       ],
       "layout": {
        "coloraxis": {
         "colorbar": {
          "len": 0.75,
          "thickness": 20,
          "title": {
           "text": "Similarity"
          },
          "x": 1.1
         }
        },
        "height": 800,
        "scene": {
         "xaxis": {
          "title": {
           "text": "PCA 1"
          }
         },
         "yaxis": {
          "title": {
           "text": "PCA 2"
          }
         },
         "zaxis": {
          "title": {
           "text": "PCA 3"
          }
         }
        },
        "template": {
         "data": {
          "bar": [
           {
            "error_x": {
             "color": "#2a3f5f"
            },
            "error_y": {
             "color": "#2a3f5f"
            },
            "marker": {
             "line": {
              "color": "#E5ECF6",
              "width": 0.5
             },
             "pattern": {
              "fillmode": "overlay",
              "size": 10,
              "solidity": 0.2
             }
            },
            "type": "bar"
           }
          ],
          "barpolar": [
           {
            "marker": {
             "line": {
              "color": "#E5ECF6",
              "width": 0.5
             },
             "pattern": {
              "fillmode": "overlay",
              "size": 10,
              "solidity": 0.2
             }
            },
            "type": "barpolar"
           }
          ],
          "carpet": [
           {
            "aaxis": {
             "endlinecolor": "#2a3f5f",
             "gridcolor": "white",
             "linecolor": "white",
             "minorgridcolor": "white",
             "startlinecolor": "#2a3f5f"
            },
            "baxis": {
             "endlinecolor": "#2a3f5f",
             "gridcolor": "white",
             "linecolor": "white",
             "minorgridcolor": "white",
             "startlinecolor": "#2a3f5f"
            },
            "type": "carpet"
           }
          ],
          "choropleth": [
           {
            "colorbar": {
             "outlinewidth": 0,
             "ticks": ""
            },
            "type": "choropleth"
           }
          ],
          "contour": [
           {
            "colorbar": {
             "outlinewidth": 0,
             "ticks": ""
            },
            "colorscale": [
             [
              0,
              "#0d0887"
             ],
             [
              0.1111111111111111,
              "#46039f"
             ],
             [
              0.2222222222222222,
              "#7201a8"
             ],
             [
              0.3333333333333333,
              "#9c179e"
             ],
             [
              0.4444444444444444,
              "#bd3786"
             ],
             [
              0.5555555555555556,
              "#d8576b"
             ],
             [
              0.6666666666666666,
              "#ed7953"
             ],
             [
              0.7777777777777778,
              "#fb9f3a"
             ],
             [
              0.8888888888888888,
              "#fdca26"
             ],
             [
              1,
              "#f0f921"
             ]
            ],
            "type": "contour"
           }
          ],
          "contourcarpet": [
           {
            "colorbar": {
             "outlinewidth": 0,
             "ticks": ""
            },
            "type": "contourcarpet"
           }
          ],
          "heatmap": [
           {
            "colorbar": {
             "outlinewidth": 0,
             "ticks": ""
            },
            "colorscale": [
             [
              0,
              "#0d0887"
             ],
             [
              0.1111111111111111,
              "#46039f"
             ],
             [
              0.2222222222222222,
              "#7201a8"
             ],
             [
              0.3333333333333333,
              "#9c179e"
             ],
             [
              0.4444444444444444,
              "#bd3786"
             ],
             [
              0.5555555555555556,
              "#d8576b"
             ],
             [
              0.6666666666666666,
              "#ed7953"
             ],
             [
              0.7777777777777778,
              "#fb9f3a"
             ],
             [
              0.8888888888888888,
              "#fdca26"
             ],
             [
              1,
              "#f0f921"
             ]
            ],
            "type": "heatmap"
           }
          ],
          "histogram": [
           {
            "marker": {
             "pattern": {
              "fillmode": "overlay",
              "size": 10,
              "solidity": 0.2
             }
            },
            "type": "histogram"
           }
          ],
          "histogram2d": [
           {
            "colorbar": {
             "outlinewidth": 0,
             "ticks": ""
            },
            "colorscale": [
             [
              0,
              "#0d0887"
             ],
             [
              0.1111111111111111,
              "#46039f"
             ],
             [
              0.2222222222222222,
              "#7201a8"
             ],
             [
              0.3333333333333333,
              "#9c179e"
             ],
             [
              0.4444444444444444,
              "#bd3786"
             ],
             [
              0.5555555555555556,
              "#d8576b"
             ],
             [
              0.6666666666666666,
              "#ed7953"
             ],
             [
              0.7777777777777778,
              "#fb9f3a"
             ],
             [
              0.8888888888888888,
              "#fdca26"
             ],
             [
              1,
              "#f0f921"
             ]
            ],
            "type": "histogram2d"
           }
          ],
          "histogram2dcontour": [
           {
            "colorbar": {
             "outlinewidth": 0,
             "ticks": ""
            },
            "colorscale": [
             [
              0,
              "#0d0887"
             ],
             [
              0.1111111111111111,
              "#46039f"
             ],
             [
              0.2222222222222222,
              "#7201a8"
             ],
             [
              0.3333333333333333,
              "#9c179e"
             ],
             [
              0.4444444444444444,
              "#bd3786"
             ],
             [
              0.5555555555555556,
              "#d8576b"
             ],
             [
              0.6666666666666666,
              "#ed7953"
             ],
             [
              0.7777777777777778,
              "#fb9f3a"
             ],
             [
              0.8888888888888888,
              "#fdca26"
             ],
             [
              1,
              "#f0f921"
             ]
            ],
            "type": "histogram2dcontour"
           }
          ],
          "mesh3d": [
           {
            "colorbar": {
             "outlinewidth": 0,
             "ticks": ""
            },
            "type": "mesh3d"
           }
          ],
          "parcoords": [
           {
            "line": {
             "colorbar": {
              "outlinewidth": 0,
              "ticks": ""
             }
            },
            "type": "parcoords"
           }
          ],
          "pie": [
           {
            "automargin": true,
            "type": "pie"
           }
          ],
          "scatter": [
           {
            "fillpattern": {
             "fillmode": "overlay",
             "size": 10,
             "solidity": 0.2
            },
            "type": "scatter"
           }
          ],
          "scatter3d": [
           {
            "line": {
             "colorbar": {
              "outlinewidth": 0,
              "ticks": ""
             }
            },
            "marker": {
             "colorbar": {
              "outlinewidth": 0,
              "ticks": ""
             }
            },
            "type": "scatter3d"
           }
          ],
          "scattercarpet": [
           {
            "marker": {
             "colorbar": {
              "outlinewidth": 0,
              "ticks": ""
             }
            },
            "type": "scattercarpet"
           }
          ],
          "scattergeo": [
           {
            "marker": {
             "colorbar": {
              "outlinewidth": 0,
              "ticks": ""
             }
            },
            "type": "scattergeo"
           }
          ],
          "scattergl": [
           {
            "marker": {
             "colorbar": {
              "outlinewidth": 0,
              "ticks": ""
             }
            },
            "type": "scattergl"
           }
          ],
          "scattermap": [
           {
            "marker": {
             "colorbar": {
              "outlinewidth": 0,
              "ticks": ""
             }
            },
            "type": "scattermap"
           }
          ],
          "scattermapbox": [
           {
            "marker": {
             "colorbar": {
              "outlinewidth": 0,
              "ticks": ""
             }
            },
            "type": "scattermapbox"
           }
          ],
          "scatterpolar": [
           {
            "marker": {
             "colorbar": {
              "outlinewidth": 0,
              "ticks": ""
             }
            },
            "type": "scatterpolar"
           }
          ],
          "scatterpolargl": [
           {
            "marker": {
             "colorbar": {
              "outlinewidth": 0,
              "ticks": ""
             }
            },
            "type": "scatterpolargl"
           }
          ],
          "scatterternary": [
           {
            "marker": {
             "colorbar": {
              "outlinewidth": 0,
              "ticks": ""
             }
            },
            "type": "scatterternary"
           }
          ],
          "surface": [
           {
            "colorbar": {
             "outlinewidth": 0,
             "ticks": ""
            },
            "colorscale": [
             [
              0,
              "#0d0887"
             ],
             [
              0.1111111111111111,
              "#46039f"
             ],
             [
              0.2222222222222222,
              "#7201a8"
             ],
             [
              0.3333333333333333,
              "#9c179e"
             ],
             [
              0.4444444444444444,
              "#bd3786"
             ],
             [
              0.5555555555555556,
              "#d8576b"
             ],
             [
              0.6666666666666666,
              "#ed7953"
             ],
             [
              0.7777777777777778,
              "#fb9f3a"
             ],
             [
              0.8888888888888888,
              "#fdca26"
             ],
             [
              1,
              "#f0f921"
             ]
            ],
            "type": "surface"
           }
          ],
          "table": [
           {
            "cells": {
             "fill": {
              "color": "#EBF0F8"
             },
             "line": {
              "color": "white"
             }
            },
            "header": {
             "fill": {
              "color": "#C8D4E3"
             },
             "line": {
              "color": "white"
             }
            },
            "type": "table"
           }
          ]
         },
         "layout": {
          "annotationdefaults": {
           "arrowcolor": "#2a3f5f",
           "arrowhead": 0,
           "arrowwidth": 1
          },
          "autotypenumbers": "strict",
          "coloraxis": {
           "colorbar": {
            "outlinewidth": 0,
            "ticks": ""
           }
          },
          "colorscale": {
           "diverging": [
            [
             0,
             "#8e0152"
            ],
            [
             0.1,
             "#c51b7d"
            ],
            [
             0.2,
             "#de77ae"
            ],
            [
             0.3,
             "#f1b6da"
            ],
            [
             0.4,
             "#fde0ef"
            ],
            [
             0.5,
             "#f7f7f7"
            ],
            [
             0.6,
             "#e6f5d0"
            ],
            [
             0.7,
             "#b8e186"
            ],
            [
             0.8,
             "#7fbc41"
            ],
            [
             0.9,
             "#4d9221"
            ],
            [
             1,
             "#276419"
            ]
           ],
           "sequential": [
            [
             0,
             "#0d0887"
            ],
            [
             0.1111111111111111,
             "#46039f"
            ],
            [
             0.2222222222222222,
             "#7201a8"
            ],
            [
             0.3333333333333333,
             "#9c179e"
            ],
            [
             0.4444444444444444,
             "#bd3786"
            ],
            [
             0.5555555555555556,
             "#d8576b"
            ],
            [
             0.6666666666666666,
             "#ed7953"
            ],
            [
             0.7777777777777778,
             "#fb9f3a"
            ],
            [
             0.8888888888888888,
             "#fdca26"
            ],
            [
             1,
             "#f0f921"
            ]
           ],
           "sequentialminus": [
            [
             0,
             "#0d0887"
            ],
            [
             0.1111111111111111,
             "#46039f"
            ],
            [
             0.2222222222222222,
             "#7201a8"
            ],
            [
             0.3333333333333333,
             "#9c179e"
            ],
            [
             0.4444444444444444,
             "#bd3786"
            ],
            [
             0.5555555555555556,
             "#d8576b"
            ],
            [
             0.6666666666666666,
             "#ed7953"
            ],
            [
             0.7777777777777778,
             "#fb9f3a"
            ],
            [
             0.8888888888888888,
             "#fdca26"
            ],
            [
             1,
             "#f0f921"
            ]
           ]
          },
          "colorway": [
           "#636efa",
           "#EF553B",
           "#00cc96",
           "#ab63fa",
           "#FFA15A",
           "#19d3f3",
           "#FF6692",
           "#B6E880",
           "#FF97FF",
           "#FECB52"
          ],
          "font": {
           "color": "#2a3f5f"
          },
          "geo": {
           "bgcolor": "white",
           "lakecolor": "white",
           "landcolor": "#E5ECF6",
           "showlakes": true,
           "showland": true,
           "subunitcolor": "white"
          },
          "hoverlabel": {
           "align": "left"
          },
          "hovermode": "closest",
          "mapbox": {
           "style": "light"
          },
          "paper_bgcolor": "white",
          "plot_bgcolor": "#E5ECF6",
          "polar": {
           "angularaxis": {
            "gridcolor": "white",
            "linecolor": "white",
            "ticks": ""
           },
           "bgcolor": "#E5ECF6",
           "radialaxis": {
            "gridcolor": "white",
            "linecolor": "white",
            "ticks": ""
           }
          },
          "scene": {
           "xaxis": {
            "backgroundcolor": "#E5ECF6",
            "gridcolor": "white",
            "gridwidth": 2,
            "linecolor": "white",
            "showbackground": true,
            "ticks": "",
            "zerolinecolor": "white"
           },
           "yaxis": {
            "backgroundcolor": "#E5ECF6",
            "gridcolor": "white",
            "gridwidth": 2,
            "linecolor": "white",
            "showbackground": true,
            "ticks": "",
            "zerolinecolor": "white"
           },
           "zaxis": {
            "backgroundcolor": "#E5ECF6",
            "gridcolor": "white",
            "gridwidth": 2,
            "linecolor": "white",
            "showbackground": true,
            "ticks": "",
            "zerolinecolor": "white"
           }
          },
          "shapedefaults": {
           "line": {
            "color": "#2a3f5f"
           }
          },
          "ternary": {
           "aaxis": {
            "gridcolor": "white",
            "linecolor": "white",
            "ticks": ""
           },
           "baxis": {
            "gridcolor": "white",
            "linecolor": "white",
            "ticks": ""
           },
           "bgcolor": "#E5ECF6",
           "caxis": {
            "gridcolor": "white",
            "linecolor": "white",
            "ticks": ""
           }
          },
          "title": {
           "x": 0.05
          },
          "xaxis": {
           "automargin": true,
           "gridcolor": "white",
           "linecolor": "white",
           "ticks": "",
           "title": {
            "standoff": 15
           },
           "zerolinecolor": "white",
           "zerolinewidth": 2
          },
          "yaxis": {
           "automargin": true,
           "gridcolor": "white",
           "linecolor": "white",
           "ticks": "",
           "title": {
            "standoff": 15
           },
           "zerolinecolor": "white",
           "zerolinewidth": 2
          }
         }
        },
        "title": {
         "text": "3D Scatter Plot of Word Vectors for 'title'"
        },
        "width": 1000
       }
      }
     },
     "metadata": {},
     "output_type": "display_data"
    }
   ],
   "source": [
    "from sklearn.decomposition import PCA\n",
    "\n",
    "# Assuming `data` is your 300-dimensional dataset (shape: [n_samples, 300])\n",
    "pca = PCA(n_components=3)\n",
    "reduced_data = pca.fit_transform(wv[words])\n",
    "\n",
    "colors = np.array([wv.similarity(center_word, word) for word in words])\n",
    "# Create a 3D scatter plot\n",
    "fig = go.Figure(data=[go.Scatter3d(\n",
    "    x=reduced_data[:, 0],\n",
    "    y=reduced_data[:, 1],\n",
    "    z=reduced_data[:, 2],\n",
    "    mode='markers+text',\n",
    "    marker=dict(\n",
    "        size=5,\n",
    "        color=colors,\n",
    "        colorscale='Plasma',\n",
    "        opacity=0.8\n",
    "    ),\n",
    "    text=words  # Add word labels\n",
    ")])\n",
    "\n",
    "fig.update_layout(\n",
    "    title=f\"3D Scatter Plot of Word Vectors for '{center_word}'\",\n",
    "    scene=dict(\n",
    "        xaxis_title='PCA 1',\n",
    "        yaxis_title='PCA 2',\n",
    "        zaxis_title='PCA 3'\n",
    "    ),\n",
    "    coloraxis_colorbar=dict(\n",
    "        title=\"Similarity\",\n",
    "        thickness=20,\n",
    "        len=0.75,\n",
    "        x=1.1  # Position the colorbar slightly outside the plot\n",
    "    ),\n",
    "    width=1000,\n",
    "    height=800,\n",
    ")\n",
    "\n",
    "fig.show()"
   ]
  },
  {
   "cell_type": "code",
   "execution_count": 122,
   "id": "05486642",
   "metadata": {},
   "outputs": [
    {
     "data": {
      "application/vnd.plotly.v1+json": {
       "config": {
        "plotlyServerURL": "https://plot.ly"
       },
       "data": [
        {
         "marker": {
          "color": {
           "bdata": "658+P2+UBT+/awA/c5X2PjA89D7aMPQ+5IHzPkQT8T5c5vA+xHzwPqys7D5Jnus+WnTrPv9d6z4KhOo+4dbpPiPF6T7Goug+0yXoPtYl5z5nFuc+htzmPpaT5j4lUuY+1P7lPoiT5T5sjuU+LYjlPrYe5T6v7eQ+y3TkPtMl5D4NZOI+2/3hPlGl4T5ji+E+BEDhPtOw4D47g+A+XLHfPhNo3z5XId8+axjfPp/w3j7KsN4+MkvePmzb3T5Upt0+oDPdPiYW3T7CDN0+FmncPtVl3D6UH9w+MQbcPiHu2z6TC9s+lgfbPnjx2j7CIto+VujZPtTd2T4L3Nk+FWHZPkAv2T5i49g+PdXYPsN+2D6ectg+fO3XPoHP1z5hstc+eq3XPiqf1z4vcNc+6eXWPgvW1j7jzdY+8MjWPoeV1j4ZldY+m5TWPliC1j7yd9Y+dkLWPmMo1j5YINY+9w3WPifh1T65sNU+infVPiI91T7TGdU+h8rUPvek1D6MmNQ+v3/UPrhy1D5WbtQ+jSzUPg==",
           "dtype": "f4"
          },
          "colorscale": [
           [
            0,
            "#0d0887"
           ],
           [
            0.1111111111111111,
            "#46039f"
           ],
           [
            0.2222222222222222,
            "#7201a8"
           ],
           [
            0.3333333333333333,
            "#9c179e"
           ],
           [
            0.4444444444444444,
            "#bd3786"
           ],
           [
            0.5555555555555556,
            "#d8576b"
           ],
           [
            0.6666666666666666,
            "#ed7953"
           ],
           [
            0.7777777777777778,
            "#fb9f3a"
           ],
           [
            0.8888888888888888,
            "#fdca26"
           ],
           [
            1,
            "#f0f921"
           ]
          ],
          "opacity": 0.8,
          "size": 5
         },
         "mode": "markers+text",
         "text": [
          "models",
          "Model",
          "xenograft_mouse",
          "Brother_Nidal",
          "Smallpox_infection",
          "Forfour",
          "Amazonian_goddesses",
          "Pursuing_vertically_integrated",
          "PQ##_platform",
          "concept",
          "paradigm",
          "sporty_hatchback",
          "Vertrek",
          "polymorphous_sexuality",
          "Dealer_invoice",
          "razor_razor_blade",
          "proprietary_econometric",
          "actress_Angie_Everhart",
          "digiMedical_Solutions_TM",
          "Models",
          "chip_Tarnovsky_hacked",
          "coupé_cabriolet",
          "rebadged_version",
          "Crossfire_coupe",
          "G##_Sedans",
          "V##_wagons",
          "template",
          "TT_Coupé",
          "Jaguar_XK_coupe",
          "modeling",
          "busty_glamor",
          "hardtop_convertible",
          "sporty_roadster",
          "humanized_mouse",
          "pacifying_restive_Sunni",
          "Honda_Accord_Coupe",
          "Rosie_Huntington_Whitely",
          "Sagitar",
          "cee'd_SW",
          "grand_tourer",
          "Styling_wise",
          "Skoda_Roomster",
          "stochastic_simulation",
          "Flex_crossover",
          "RAV4_compact_SUVs",
          "Range_Rover_TDV8",
          "sportback",
          "supercharged_V6",
          "A3_hatchback",
          "BMW_X3_xDrive##d",
          "BlueSport",
          "CLS##_AMG",
          "razor_razorblade",
          "hybird",
          "FEA_valuation",
          "CLK_Cabriolet",
          "Lexus_LX_###s",
          "Iosis_X",
          "Prediction_API",
          "Opel_Vauxhall_Astra",
          "coupe_cabriolet",
          "#x#_drivetrain",
          "Astra_hatchback",
          "SI_swimsuit",
          "Transit_SportVan",
          "WRX_sedan",
          "Pentastar_engine",
          "A6_sedan",
          "unibody_chassis",
          "midengine",
          "Tata_Indica_eV2",
          "internal_combustion_engined",
          "Dyna_Glide",
          "BYD_F3",
          "Townpod",
          "sportier_styling",
          "Cayenne_GTS",
          "Duramax_diesel_engine",
          "rebodied",
          "IBM_worksite_wellness",
          "Chevy_Cruze_compact",
          "variant",
          "Clio_Renault",
          "A5_Sportback",
          "XJ_sedan",
          "Multiair_engine",
          "Alfa_8C_Spider",
          "Mondeo_sedan",
          "sports_tourer",
          "prototype",
          "Reference_SCOR",
          "Long_Wheelbase",
          "Acabion",
          "nurturant_parent",
          "carbon_fiber_monocoque",
          "Vision_Efficient_Dynamics",
          "FT_SX",
          "C##_coupe",
          "coupe_convertible",
          "newer_sleeker"
         ],
         "type": "scatter3d",
         "x": {
          "bdata": "Tcz+wEncFMDfvmfCrNnLwn/AhMK9KRnBdANSQFlEqcJnR5xCVg93wh/apMGTtYFCwak6Qt86t8Hju6fCTP6gwo9nr8K8BwTCj3niwYLEgr+sVlfCtfVYQh6picFiBjtCgiKiQaHiv8FuzELCsQEcwpSwmEE1CWrCJseKwt7Um0JAtvfAB/OIwV091cJrut1CbK90ws7yxkL8ND1BupOwQqnVtUIki7BBpQlGwmGke0KO+lTCt0Y7wf7xeEKBNClCLQ8LQVDNs8Ms/JlCj0KnQpmwVsJWfH7BCmbywnknQEJKF/TBkbiXwO2SVMJbRIZB2b/4Qsa6okGWXK1C6WiKwoWtxUF04rLCrJUMQqz7UEJHsjdBh68+Qqt+fEI5wjJCgxC0wkYlUEIdRjbCfU03QkPvR0K6HQFC53ccwRGYGMJlCcxBDrKzQq78DUBgq8pCYeKIQsnsWkGsdrlAzT0HQvl9V0KOAZjCV/98wluTLEES4vnBZ9EowpO8WsJeE5fBfSEPwiuep8Fef7BCPuh7Qg==",
          "dtype": "f4"
         },
         "y": {
          "bdata": "/H1nwsgmK0Dt3uRA7HKDQrnZt0IDXT5CnASbQe6eAUE7ogBCqGnTQEevp0LyNr3Bf8PuQcunhUK6zmbCAPo6QuNSnUIKCqq/zWscQgMnTsLR4CZC9AGuwuw72sJLW7hBl/5aQkHjkEEzaPRCJxiown4IsUL5TUNCIMmlQOO3UcIF64g/kGm1Qjp8NUKAwNlBDugTws97gD9y+w9AX0LnwncLPMBGh2vCkmCdQkUkaMIpjBPCTcgXQs34IEJ3ZbHCcLVnwqgfhULuefnAhPSbwl5hJkJuzwlC8OaFQE61AsEiybDBeHEMwt7CKcDXYMVCxEB8wtMIc0KY6DlCX0eGv1OpvEEHewDCCWKFwtQzQcDfryfA3txRwgGW2cFX8dBChL6CQeadGkF9WzLCW4frQYI2hMLEIlpCs5zRwiq44UIF9KHBWCedQo9HdsJRB6fB5kC+wvR8REJTVhLB1GilwSJg+MIXTI3CNCk3QviQ3cJSICDCer6kQvlpoMIzQtbBvzLIwXXlqMKUkWvCb22rQg==",
          "dtype": "f4"
         },
         "z": {
          "bdata": "4+aSQpW57kLrGQVB3NK6QTALeEIsAdbCRCZgQtvWMUJ8BNbAuHGqwg845sH/gcPCOe28wmIsDEIqRzVCKoxnwryvrsE/4MFCLD2UQu8L10IkOnlBonZowQRVK0LMLzpCczSNQl079kH5CdzBLKyYQtOPJkKbcN1CVa6uQl+CLcIiwALCVnuuQvXwlULq2VTCq7XJQoqBlUL4JlBBlXVcwbK9pUEnWTLCYkCMP8C3wEL3nTBC7k/xwFt1QMLh6orCJ+2NQaJid8Pm8rfBzIWkwhPtwMFiQHHCLGyGQWfDa0HxHVpCs3KiwSYEC8L9oys/P2qywWq0GMJS0QNC0KgAQyZRo8G+LDfCcRlYQvFoesJDAf7CcaqXQJLKNELOcATCyHaQwQv5uUL1pifBYcgVQWPL2cJSp+lCXDVqwpit/EHie3hCm+evwYKgvcL6ApPC9m4BQuTfiEFL45TC3jvAwbfXK8IgTyHBFSJQQnT9SsGNJ2nCXJSBwg+Ii8KSTEdBg8zTwjAwl8Dk/ObA6W4PQg==",
          "dtype": "f4"
         }
        }
       ],
       "layout": {
        "coloraxis": {
         "colorbar": {
          "len": 0.75,
          "thickness": 20,
          "title": {
           "text": "Similarity"
          },
          "x": 1.1
         }
        },
        "height": 800,
        "scene": {
         "xaxis": {
          "title": {
           "text": "TSNE 1"
          }
         },
         "yaxis": {
          "title": {
           "text": "TSNE 2"
          }
         },
         "zaxis": {
          "title": {
           "text": "TSNE 3"
          }
         }
        },
        "template": {
         "data": {
          "bar": [
           {
            "error_x": {
             "color": "#2a3f5f"
            },
            "error_y": {
             "color": "#2a3f5f"
            },
            "marker": {
             "line": {
              "color": "#E5ECF6",
              "width": 0.5
             },
             "pattern": {
              "fillmode": "overlay",
              "size": 10,
              "solidity": 0.2
             }
            },
            "type": "bar"
           }
          ],
          "barpolar": [
           {
            "marker": {
             "line": {
              "color": "#E5ECF6",
              "width": 0.5
             },
             "pattern": {
              "fillmode": "overlay",
              "size": 10,
              "solidity": 0.2
             }
            },
            "type": "barpolar"
           }
          ],
          "carpet": [
           {
            "aaxis": {
             "endlinecolor": "#2a3f5f",
             "gridcolor": "white",
             "linecolor": "white",
             "minorgridcolor": "white",
             "startlinecolor": "#2a3f5f"
            },
            "baxis": {
             "endlinecolor": "#2a3f5f",
             "gridcolor": "white",
             "linecolor": "white",
             "minorgridcolor": "white",
             "startlinecolor": "#2a3f5f"
            },
            "type": "carpet"
           }
          ],
          "choropleth": [
           {
            "colorbar": {
             "outlinewidth": 0,
             "ticks": ""
            },
            "type": "choropleth"
           }
          ],
          "contour": [
           {
            "colorbar": {
             "outlinewidth": 0,
             "ticks": ""
            },
            "colorscale": [
             [
              0,
              "#0d0887"
             ],
             [
              0.1111111111111111,
              "#46039f"
             ],
             [
              0.2222222222222222,
              "#7201a8"
             ],
             [
              0.3333333333333333,
              "#9c179e"
             ],
             [
              0.4444444444444444,
              "#bd3786"
             ],
             [
              0.5555555555555556,
              "#d8576b"
             ],
             [
              0.6666666666666666,
              "#ed7953"
             ],
             [
              0.7777777777777778,
              "#fb9f3a"
             ],
             [
              0.8888888888888888,
              "#fdca26"
             ],
             [
              1,
              "#f0f921"
             ]
            ],
            "type": "contour"
           }
          ],
          "contourcarpet": [
           {
            "colorbar": {
             "outlinewidth": 0,
             "ticks": ""
            },
            "type": "contourcarpet"
           }
          ],
          "heatmap": [
           {
            "colorbar": {
             "outlinewidth": 0,
             "ticks": ""
            },
            "colorscale": [
             [
              0,
              "#0d0887"
             ],
             [
              0.1111111111111111,
              "#46039f"
             ],
             [
              0.2222222222222222,
              "#7201a8"
             ],
             [
              0.3333333333333333,
              "#9c179e"
             ],
             [
              0.4444444444444444,
              "#bd3786"
             ],
             [
              0.5555555555555556,
              "#d8576b"
             ],
             [
              0.6666666666666666,
              "#ed7953"
             ],
             [
              0.7777777777777778,
              "#fb9f3a"
             ],
             [
              0.8888888888888888,
              "#fdca26"
             ],
             [
              1,
              "#f0f921"
             ]
            ],
            "type": "heatmap"
           }
          ],
          "histogram": [
           {
            "marker": {
             "pattern": {
              "fillmode": "overlay",
              "size": 10,
              "solidity": 0.2
             }
            },
            "type": "histogram"
           }
          ],
          "histogram2d": [
           {
            "colorbar": {
             "outlinewidth": 0,
             "ticks": ""
            },
            "colorscale": [
             [
              0,
              "#0d0887"
             ],
             [
              0.1111111111111111,
              "#46039f"
             ],
             [
              0.2222222222222222,
              "#7201a8"
             ],
             [
              0.3333333333333333,
              "#9c179e"
             ],
             [
              0.4444444444444444,
              "#bd3786"
             ],
             [
              0.5555555555555556,
              "#d8576b"
             ],
             [
              0.6666666666666666,
              "#ed7953"
             ],
             [
              0.7777777777777778,
              "#fb9f3a"
             ],
             [
              0.8888888888888888,
              "#fdca26"
             ],
             [
              1,
              "#f0f921"
             ]
            ],
            "type": "histogram2d"
           }
          ],
          "histogram2dcontour": [
           {
            "colorbar": {
             "outlinewidth": 0,
             "ticks": ""
            },
            "colorscale": [
             [
              0,
              "#0d0887"
             ],
             [
              0.1111111111111111,
              "#46039f"
             ],
             [
              0.2222222222222222,
              "#7201a8"
             ],
             [
              0.3333333333333333,
              "#9c179e"
             ],
             [
              0.4444444444444444,
              "#bd3786"
             ],
             [
              0.5555555555555556,
              "#d8576b"
             ],
             [
              0.6666666666666666,
              "#ed7953"
             ],
             [
              0.7777777777777778,
              "#fb9f3a"
             ],
             [
              0.8888888888888888,
              "#fdca26"
             ],
             [
              1,
              "#f0f921"
             ]
            ],
            "type": "histogram2dcontour"
           }
          ],
          "mesh3d": [
           {
            "colorbar": {
             "outlinewidth": 0,
             "ticks": ""
            },
            "type": "mesh3d"
           }
          ],
          "parcoords": [
           {
            "line": {
             "colorbar": {
              "outlinewidth": 0,
              "ticks": ""
             }
            },
            "type": "parcoords"
           }
          ],
          "pie": [
           {
            "automargin": true,
            "type": "pie"
           }
          ],
          "scatter": [
           {
            "fillpattern": {
             "fillmode": "overlay",
             "size": 10,
             "solidity": 0.2
            },
            "type": "scatter"
           }
          ],
          "scatter3d": [
           {
            "line": {
             "colorbar": {
              "outlinewidth": 0,
              "ticks": ""
             }
            },
            "marker": {
             "colorbar": {
              "outlinewidth": 0,
              "ticks": ""
             }
            },
            "type": "scatter3d"
           }
          ],
          "scattercarpet": [
           {
            "marker": {
             "colorbar": {
              "outlinewidth": 0,
              "ticks": ""
             }
            },
            "type": "scattercarpet"
           }
          ],
          "scattergeo": [
           {
            "marker": {
             "colorbar": {
              "outlinewidth": 0,
              "ticks": ""
             }
            },
            "type": "scattergeo"
           }
          ],
          "scattergl": [
           {
            "marker": {
             "colorbar": {
              "outlinewidth": 0,
              "ticks": ""
             }
            },
            "type": "scattergl"
           }
          ],
          "scattermap": [
           {
            "marker": {
             "colorbar": {
              "outlinewidth": 0,
              "ticks": ""
             }
            },
            "type": "scattermap"
           }
          ],
          "scattermapbox": [
           {
            "marker": {
             "colorbar": {
              "outlinewidth": 0,
              "ticks": ""
             }
            },
            "type": "scattermapbox"
           }
          ],
          "scatterpolar": [
           {
            "marker": {
             "colorbar": {
              "outlinewidth": 0,
              "ticks": ""
             }
            },
            "type": "scatterpolar"
           }
          ],
          "scatterpolargl": [
           {
            "marker": {
             "colorbar": {
              "outlinewidth": 0,
              "ticks": ""
             }
            },
            "type": "scatterpolargl"
           }
          ],
          "scatterternary": [
           {
            "marker": {
             "colorbar": {
              "outlinewidth": 0,
              "ticks": ""
             }
            },
            "type": "scatterternary"
           }
          ],
          "surface": [
           {
            "colorbar": {
             "outlinewidth": 0,
             "ticks": ""
            },
            "colorscale": [
             [
              0,
              "#0d0887"
             ],
             [
              0.1111111111111111,
              "#46039f"
             ],
             [
              0.2222222222222222,
              "#7201a8"
             ],
             [
              0.3333333333333333,
              "#9c179e"
             ],
             [
              0.4444444444444444,
              "#bd3786"
             ],
             [
              0.5555555555555556,
              "#d8576b"
             ],
             [
              0.6666666666666666,
              "#ed7953"
             ],
             [
              0.7777777777777778,
              "#fb9f3a"
             ],
             [
              0.8888888888888888,
              "#fdca26"
             ],
             [
              1,
              "#f0f921"
             ]
            ],
            "type": "surface"
           }
          ],
          "table": [
           {
            "cells": {
             "fill": {
              "color": "#EBF0F8"
             },
             "line": {
              "color": "white"
             }
            },
            "header": {
             "fill": {
              "color": "#C8D4E3"
             },
             "line": {
              "color": "white"
             }
            },
            "type": "table"
           }
          ]
         },
         "layout": {
          "annotationdefaults": {
           "arrowcolor": "#2a3f5f",
           "arrowhead": 0,
           "arrowwidth": 1
          },
          "autotypenumbers": "strict",
          "coloraxis": {
           "colorbar": {
            "outlinewidth": 0,
            "ticks": ""
           }
          },
          "colorscale": {
           "diverging": [
            [
             0,
             "#8e0152"
            ],
            [
             0.1,
             "#c51b7d"
            ],
            [
             0.2,
             "#de77ae"
            ],
            [
             0.3,
             "#f1b6da"
            ],
            [
             0.4,
             "#fde0ef"
            ],
            [
             0.5,
             "#f7f7f7"
            ],
            [
             0.6,
             "#e6f5d0"
            ],
            [
             0.7,
             "#b8e186"
            ],
            [
             0.8,
             "#7fbc41"
            ],
            [
             0.9,
             "#4d9221"
            ],
            [
             1,
             "#276419"
            ]
           ],
           "sequential": [
            [
             0,
             "#0d0887"
            ],
            [
             0.1111111111111111,
             "#46039f"
            ],
            [
             0.2222222222222222,
             "#7201a8"
            ],
            [
             0.3333333333333333,
             "#9c179e"
            ],
            [
             0.4444444444444444,
             "#bd3786"
            ],
            [
             0.5555555555555556,
             "#d8576b"
            ],
            [
             0.6666666666666666,
             "#ed7953"
            ],
            [
             0.7777777777777778,
             "#fb9f3a"
            ],
            [
             0.8888888888888888,
             "#fdca26"
            ],
            [
             1,
             "#f0f921"
            ]
           ],
           "sequentialminus": [
            [
             0,
             "#0d0887"
            ],
            [
             0.1111111111111111,
             "#46039f"
            ],
            [
             0.2222222222222222,
             "#7201a8"
            ],
            [
             0.3333333333333333,
             "#9c179e"
            ],
            [
             0.4444444444444444,
             "#bd3786"
            ],
            [
             0.5555555555555556,
             "#d8576b"
            ],
            [
             0.6666666666666666,
             "#ed7953"
            ],
            [
             0.7777777777777778,
             "#fb9f3a"
            ],
            [
             0.8888888888888888,
             "#fdca26"
            ],
            [
             1,
             "#f0f921"
            ]
           ]
          },
          "colorway": [
           "#636efa",
           "#EF553B",
           "#00cc96",
           "#ab63fa",
           "#FFA15A",
           "#19d3f3",
           "#FF6692",
           "#B6E880",
           "#FF97FF",
           "#FECB52"
          ],
          "font": {
           "color": "#2a3f5f"
          },
          "geo": {
           "bgcolor": "white",
           "lakecolor": "white",
           "landcolor": "#E5ECF6",
           "showlakes": true,
           "showland": true,
           "subunitcolor": "white"
          },
          "hoverlabel": {
           "align": "left"
          },
          "hovermode": "closest",
          "mapbox": {
           "style": "light"
          },
          "paper_bgcolor": "white",
          "plot_bgcolor": "#E5ECF6",
          "polar": {
           "angularaxis": {
            "gridcolor": "white",
            "linecolor": "white",
            "ticks": ""
           },
           "bgcolor": "#E5ECF6",
           "radialaxis": {
            "gridcolor": "white",
            "linecolor": "white",
            "ticks": ""
           }
          },
          "scene": {
           "xaxis": {
            "backgroundcolor": "#E5ECF6",
            "gridcolor": "white",
            "gridwidth": 2,
            "linecolor": "white",
            "showbackground": true,
            "ticks": "",
            "zerolinecolor": "white"
           },
           "yaxis": {
            "backgroundcolor": "#E5ECF6",
            "gridcolor": "white",
            "gridwidth": 2,
            "linecolor": "white",
            "showbackground": true,
            "ticks": "",
            "zerolinecolor": "white"
           },
           "zaxis": {
            "backgroundcolor": "#E5ECF6",
            "gridcolor": "white",
            "gridwidth": 2,
            "linecolor": "white",
            "showbackground": true,
            "ticks": "",
            "zerolinecolor": "white"
           }
          },
          "shapedefaults": {
           "line": {
            "color": "#2a3f5f"
           }
          },
          "ternary": {
           "aaxis": {
            "gridcolor": "white",
            "linecolor": "white",
            "ticks": ""
           },
           "baxis": {
            "gridcolor": "white",
            "linecolor": "white",
            "ticks": ""
           },
           "bgcolor": "#E5ECF6",
           "caxis": {
            "gridcolor": "white",
            "linecolor": "white",
            "ticks": ""
           }
          },
          "title": {
           "x": 0.05
          },
          "xaxis": {
           "automargin": true,
           "gridcolor": "white",
           "linecolor": "white",
           "ticks": "",
           "title": {
            "standoff": 15
           },
           "zerolinecolor": "white",
           "zerolinewidth": 2
          },
          "yaxis": {
           "automargin": true,
           "gridcolor": "white",
           "linecolor": "white",
           "ticks": "",
           "title": {
            "standoff": 15
           },
           "zerolinecolor": "white",
           "zerolinewidth": 2
          }
         }
        },
        "title": {
         "text": "3D Scatter Plot of Word Vectors for 'model'"
        },
        "width": 1000
       }
      }
     },
     "metadata": {},
     "output_type": "display_data"
    }
   ],
   "source": [
    "from sklearn.manifold import TSNE\n",
    "\n",
    "# Reduce to 3 dimensions using t-SNE\n",
    "tsne = TSNE(n_components=3, random_state=42)\n",
    "reduced_data = tsne.fit_transform(wv[words])\n",
    "\n",
    "colors = np.array([wv.similarity(center_word, word) for word in words])\n",
    "# Create a 3D scatter plot\n",
    "fig = go.Figure(data=[go.Scatter3d(\n",
    "    x=reduced_data[:, 0],\n",
    "    y=reduced_data[:, 1],\n",
    "    z=reduced_data[:, 2],\n",
    "    mode='markers+text',\n",
    "    marker=dict(\n",
    "        size=5,\n",
    "        color=colors,\n",
    "        colorscale='Plasma',\n",
    "        opacity=0.8\n",
    "    ),\n",
    "    text=words  # Add word labels\n",
    ")])\n",
    "\n",
    "fig.update_layout(\n",
    "    title=f\"3D Scatter Plot of Word Vectors for '{center_word}'\",\n",
    "    scene=dict(\n",
    "        xaxis_title='TSNE 1',\n",
    "        yaxis_title='TSNE 2',\n",
    "        zaxis_title='TSNE 3'\n",
    "    ),\n",
    "    coloraxis_colorbar=dict(\n",
    "        title=\"Similarity\",\n",
    "        thickness=20,\n",
    "        len=0.75,\n",
    "        x=1.1  # Position the colorbar slightly outside the plot\n",
    "    ),\n",
    "    width=1000,\n",
    "    height=800,\n",
    ")\n",
    "\n",
    "fig.show()"
   ]
  },
  {
   "cell_type": "code",
   "execution_count": 123,
   "id": "c14021da",
   "metadata": {},
   "outputs": [
    {
     "name": "stderr",
     "output_type": "stream",
     "text": [
      "c:\\Users\\jonas\\code\\Exploring-text-embeddings-and-transformer-models\\.venv\\Lib\\site-packages\\sklearn\\utils\\deprecation.py:151: FutureWarning:\n",
      "\n",
      "'force_all_finite' was renamed to 'ensure_all_finite' in 1.6 and will be removed in 1.8.\n",
      "\n",
      "c:\\Users\\jonas\\code\\Exploring-text-embeddings-and-transformer-models\\.venv\\Lib\\site-packages\\umap\\umap_.py:1952: UserWarning:\n",
      "\n",
      "n_jobs value 1 overridden to 1 by setting random_state. Use no seed for parallelism.\n",
      "\n"
     ]
    },
    {
     "data": {
      "application/vnd.plotly.v1+json": {
       "config": {
        "plotlyServerURL": "https://plot.ly"
       },
       "data": [
        {
         "marker": {
          "color": {
           "bdata": "658+P2+UBT+/awA/c5X2PjA89D7aMPQ+5IHzPkQT8T5c5vA+xHzwPqys7D5Jnus+WnTrPv9d6z4KhOo+4dbpPiPF6T7Goug+0yXoPtYl5z5nFuc+htzmPpaT5j4lUuY+1P7lPoiT5T5sjuU+LYjlPrYe5T6v7eQ+y3TkPtMl5D4NZOI+2/3hPlGl4T5ji+E+BEDhPtOw4D47g+A+XLHfPhNo3z5XId8+axjfPp/w3j7KsN4+MkvePmzb3T5Upt0+oDPdPiYW3T7CDN0+FmncPtVl3D6UH9w+MQbcPiHu2z6TC9s+lgfbPnjx2j7CIto+VujZPtTd2T4L3Nk+FWHZPkAv2T5i49g+PdXYPsN+2D6ectg+fO3XPoHP1z5hstc+eq3XPiqf1z4vcNc+6eXWPgvW1j7jzdY+8MjWPoeV1j4ZldY+m5TWPliC1j7yd9Y+dkLWPmMo1j5YINY+9w3WPifh1T65sNU+infVPiI91T7TGdU+h8rUPvek1D6MmNQ+v3/UPrhy1D5WbtQ+jSzUPg==",
           "dtype": "f4"
          },
          "colorscale": [
           [
            0,
            "#0d0887"
           ],
           [
            0.1111111111111111,
            "#46039f"
           ],
           [
            0.2222222222222222,
            "#7201a8"
           ],
           [
            0.3333333333333333,
            "#9c179e"
           ],
           [
            0.4444444444444444,
            "#bd3786"
           ],
           [
            0.5555555555555556,
            "#d8576b"
           ],
           [
            0.6666666666666666,
            "#ed7953"
           ],
           [
            0.7777777777777778,
            "#fb9f3a"
           ],
           [
            0.8888888888888888,
            "#fdca26"
           ],
           [
            1,
            "#f0f921"
           ]
          ],
          "opacity": 0.8,
          "size": 5
         },
         "mode": "markers+text",
         "text": [
          "models",
          "Model",
          "xenograft_mouse",
          "Brother_Nidal",
          "Smallpox_infection",
          "Forfour",
          "Amazonian_goddesses",
          "Pursuing_vertically_integrated",
          "PQ##_platform",
          "concept",
          "paradigm",
          "sporty_hatchback",
          "Vertrek",
          "polymorphous_sexuality",
          "Dealer_invoice",
          "razor_razor_blade",
          "proprietary_econometric",
          "actress_Angie_Everhart",
          "digiMedical_Solutions_TM",
          "Models",
          "chip_Tarnovsky_hacked",
          "coupé_cabriolet",
          "rebadged_version",
          "Crossfire_coupe",
          "G##_Sedans",
          "V##_wagons",
          "template",
          "TT_Coupé",
          "Jaguar_XK_coupe",
          "modeling",
          "busty_glamor",
          "hardtop_convertible",
          "sporty_roadster",
          "humanized_mouse",
          "pacifying_restive_Sunni",
          "Honda_Accord_Coupe",
          "Rosie_Huntington_Whitely",
          "Sagitar",
          "cee'd_SW",
          "grand_tourer",
          "Styling_wise",
          "Skoda_Roomster",
          "stochastic_simulation",
          "Flex_crossover",
          "RAV4_compact_SUVs",
          "Range_Rover_TDV8",
          "sportback",
          "supercharged_V6",
          "A3_hatchback",
          "BMW_X3_xDrive##d",
          "BlueSport",
          "CLS##_AMG",
          "razor_razorblade",
          "hybird",
          "FEA_valuation",
          "CLK_Cabriolet",
          "Lexus_LX_###s",
          "Iosis_X",
          "Prediction_API",
          "Opel_Vauxhall_Astra",
          "coupe_cabriolet",
          "#x#_drivetrain",
          "Astra_hatchback",
          "SI_swimsuit",
          "Transit_SportVan",
          "WRX_sedan",
          "Pentastar_engine",
          "A6_sedan",
          "unibody_chassis",
          "midengine",
          "Tata_Indica_eV2",
          "internal_combustion_engined",
          "Dyna_Glide",
          "BYD_F3",
          "Townpod",
          "sportier_styling",
          "Cayenne_GTS",
          "Duramax_diesel_engine",
          "rebodied",
          "IBM_worksite_wellness",
          "Chevy_Cruze_compact",
          "variant",
          "Clio_Renault",
          "A5_Sportback",
          "XJ_sedan",
          "Multiair_engine",
          "Alfa_8C_Spider",
          "Mondeo_sedan",
          "sports_tourer",
          "prototype",
          "Reference_SCOR",
          "Long_Wheelbase",
          "Acabion",
          "nurturant_parent",
          "carbon_fiber_monocoque",
          "Vision_Efficient_Dynamics",
          "FT_SX",
          "C##_coupe",
          "coupe_convertible",
          "newer_sleeker"
         ],
         "type": "scatter3d",
         "x": {
          "bdata": "KwHFQHKuxkBCOMRAYkK8QN/9q0DKwLNA7svFQDRiu0A5EqtApIPQQMegzEAdx65AnLyuQDDos0CDLq1AW6q0QGSByUCuoMxA8c2vQMpKy0BjabtAdXKXQCYVv0AM8rpA68qxQFV+q0Dmh8pAcrqTQBMTokAvHtlA8a3VQI7hmkDct6tAXfLIQCgfuUAnCaBAt7TRQFyVvUBCUa1ADXiaQMjytEC6UK5Aho/QQK28uUAghKpA/dmxQELvpkAY4Y1Ahu6vQBFqk0AH/a9AvKeNQIWsuECufsNAy+/RQEMtn0AZLKhA1oHFQCDNvUB2JbhAAIqbQJ2JlkAu5b1AAOnaQOV/wUCkwpdAuTOcQLzKsECn8pFAwfGRQEfisEBLj6FAwoC8QPWQr0ADbs9ALNOyQO5ClEDpFpZAPLuUQAXcqkAAPbVAEDubQMI0kkBRTbBAXPiaQLcaqUCmFKVAhF/CQM4HoEDiN81AwLm+QD7fm0DXC4pAK5LFQK+1j0B1UcVAM9nSQBUxqEBH7p5AIDG+QA==",
          "dtype": "f4"
         },
         "y": {
          "bdata": "T0nvQEY/AUEF+AxBnbcLQXQAE0EqlL1ALNIIQT+JFEH7g/hAhS/fQE5qCEFql6BAByWsQDJyC0EtyQZBO3YOQRMjEEEjGglBUlYUQS89+UDd3Q9BdQqnQJvB10Bpkt5AA5P+QIR5AkHUDQhBmHTVQOwyxkCajg1BjO8MQVPOmkB0e9dADxcOQV9TEEHOHsRAMDgHQWlMxEDyWdZANSqcQFoV4UC/d7NATU8NQaw2qkDtNAZB/ff+QBBpt0BHNLdAkFLCQMTGyED+McVAVzmjQFYKEUEeIuNAzpIOQane40AANAVB7UbYQBiHAkGrFsFAZMKgQMnJ9EDooM1As1EIQbcl8UDiqO9AjCPVQN7Gt0A3Hd5AAgGuQCkv8UBj/PJAWJIAQXnG4UA0JdlAvTThQI9KmkBrX+FA5eytQCfMDUFMdNJADtjEQHcezkBKjaJAhiquQH2lAEFCKeJA5Oi9QOMJmUBkk9dAoTsTQTr+skDGmc9ADDQIQUQ4tkAZLshAc2/QQEFqrEDotJ9ADtT1QA==",
          "dtype": "f4"
         },
         "z": {
          "bdata": "+MmrQG5/nUCA+IFAk2SQQP/8iEACdaFAxDeQQOlujkAjT5NAv1CUQB+ba0BK8p9AU36TQL2xl0Aov65A8kl4QIIrbEC5GqJAwv6MQJBEqUCT6otA5hyoQAr5mkCY/YZATHepQIUep0AxqllAQGimQNuSrkDd3ZFAALueQCY5sEBEfqlAgZmAQKQfm0DEdrNAt4mlQDZAk0CZAIxAVDebQN9QrEDEzrRAV5FuQMg/lUDSeLZADpaKQM6bnUA1q6NAOIiYQJP2mUDKVLNAifmgQFMccEBxyYtA+JeLQK3JqkBAB7NAk3WSQHTRY0Bf74FAZ261QFbPjUDtp4JAM6ShQOw6jUCGCpVA2lmIQDVBlUBeAZtAkLeSQFTkf0B8UYVAuPeCQGOilUBvwKJACvqjQIzIokDzCIhAs5iUQB+KiUCqjoVA5g+hQH1ErUDfX6BAIKKrQCHvd0Dap6VAq2WMQHkCnUAnjqlA1Gt+QNLytkDnj5tAIntqQBvmk0CxUK1AjsedQBbMrUDU0LdA9KGFQA==",
          "dtype": "f4"
         }
        }
       ],
       "layout": {
        "coloraxis": {
         "colorbar": {
          "len": 0.75,
          "thickness": 20,
          "title": {
           "text": "Similarity"
          },
          "x": 1.1
         }
        },
        "height": 800,
        "scene": {
         "xaxis": {
          "title": {
           "text": "UMAP 1"
          }
         },
         "yaxis": {
          "title": {
           "text": "UMAP 2"
          }
         },
         "zaxis": {
          "title": {
           "text": "UMAP 3"
          }
         }
        },
        "template": {
         "data": {
          "bar": [
           {
            "error_x": {
             "color": "#2a3f5f"
            },
            "error_y": {
             "color": "#2a3f5f"
            },
            "marker": {
             "line": {
              "color": "#E5ECF6",
              "width": 0.5
             },
             "pattern": {
              "fillmode": "overlay",
              "size": 10,
              "solidity": 0.2
             }
            },
            "type": "bar"
           }
          ],
          "barpolar": [
           {
            "marker": {
             "line": {
              "color": "#E5ECF6",
              "width": 0.5
             },
             "pattern": {
              "fillmode": "overlay",
              "size": 10,
              "solidity": 0.2
             }
            },
            "type": "barpolar"
           }
          ],
          "carpet": [
           {
            "aaxis": {
             "endlinecolor": "#2a3f5f",
             "gridcolor": "white",
             "linecolor": "white",
             "minorgridcolor": "white",
             "startlinecolor": "#2a3f5f"
            },
            "baxis": {
             "endlinecolor": "#2a3f5f",
             "gridcolor": "white",
             "linecolor": "white",
             "minorgridcolor": "white",
             "startlinecolor": "#2a3f5f"
            },
            "type": "carpet"
           }
          ],
          "choropleth": [
           {
            "colorbar": {
             "outlinewidth": 0,
             "ticks": ""
            },
            "type": "choropleth"
           }
          ],
          "contour": [
           {
            "colorbar": {
             "outlinewidth": 0,
             "ticks": ""
            },
            "colorscale": [
             [
              0,
              "#0d0887"
             ],
             [
              0.1111111111111111,
              "#46039f"
             ],
             [
              0.2222222222222222,
              "#7201a8"
             ],
             [
              0.3333333333333333,
              "#9c179e"
             ],
             [
              0.4444444444444444,
              "#bd3786"
             ],
             [
              0.5555555555555556,
              "#d8576b"
             ],
             [
              0.6666666666666666,
              "#ed7953"
             ],
             [
              0.7777777777777778,
              "#fb9f3a"
             ],
             [
              0.8888888888888888,
              "#fdca26"
             ],
             [
              1,
              "#f0f921"
             ]
            ],
            "type": "contour"
           }
          ],
          "contourcarpet": [
           {
            "colorbar": {
             "outlinewidth": 0,
             "ticks": ""
            },
            "type": "contourcarpet"
           }
          ],
          "heatmap": [
           {
            "colorbar": {
             "outlinewidth": 0,
             "ticks": ""
            },
            "colorscale": [
             [
              0,
              "#0d0887"
             ],
             [
              0.1111111111111111,
              "#46039f"
             ],
             [
              0.2222222222222222,
              "#7201a8"
             ],
             [
              0.3333333333333333,
              "#9c179e"
             ],
             [
              0.4444444444444444,
              "#bd3786"
             ],
             [
              0.5555555555555556,
              "#d8576b"
             ],
             [
              0.6666666666666666,
              "#ed7953"
             ],
             [
              0.7777777777777778,
              "#fb9f3a"
             ],
             [
              0.8888888888888888,
              "#fdca26"
             ],
             [
              1,
              "#f0f921"
             ]
            ],
            "type": "heatmap"
           }
          ],
          "histogram": [
           {
            "marker": {
             "pattern": {
              "fillmode": "overlay",
              "size": 10,
              "solidity": 0.2
             }
            },
            "type": "histogram"
           }
          ],
          "histogram2d": [
           {
            "colorbar": {
             "outlinewidth": 0,
             "ticks": ""
            },
            "colorscale": [
             [
              0,
              "#0d0887"
             ],
             [
              0.1111111111111111,
              "#46039f"
             ],
             [
              0.2222222222222222,
              "#7201a8"
             ],
             [
              0.3333333333333333,
              "#9c179e"
             ],
             [
              0.4444444444444444,
              "#bd3786"
             ],
             [
              0.5555555555555556,
              "#d8576b"
             ],
             [
              0.6666666666666666,
              "#ed7953"
             ],
             [
              0.7777777777777778,
              "#fb9f3a"
             ],
             [
              0.8888888888888888,
              "#fdca26"
             ],
             [
              1,
              "#f0f921"
             ]
            ],
            "type": "histogram2d"
           }
          ],
          "histogram2dcontour": [
           {
            "colorbar": {
             "outlinewidth": 0,
             "ticks": ""
            },
            "colorscale": [
             [
              0,
              "#0d0887"
             ],
             [
              0.1111111111111111,
              "#46039f"
             ],
             [
              0.2222222222222222,
              "#7201a8"
             ],
             [
              0.3333333333333333,
              "#9c179e"
             ],
             [
              0.4444444444444444,
              "#bd3786"
             ],
             [
              0.5555555555555556,
              "#d8576b"
             ],
             [
              0.6666666666666666,
              "#ed7953"
             ],
             [
              0.7777777777777778,
              "#fb9f3a"
             ],
             [
              0.8888888888888888,
              "#fdca26"
             ],
             [
              1,
              "#f0f921"
             ]
            ],
            "type": "histogram2dcontour"
           }
          ],
          "mesh3d": [
           {
            "colorbar": {
             "outlinewidth": 0,
             "ticks": ""
            },
            "type": "mesh3d"
           }
          ],
          "parcoords": [
           {
            "line": {
             "colorbar": {
              "outlinewidth": 0,
              "ticks": ""
             }
            },
            "type": "parcoords"
           }
          ],
          "pie": [
           {
            "automargin": true,
            "type": "pie"
           }
          ],
          "scatter": [
           {
            "fillpattern": {
             "fillmode": "overlay",
             "size": 10,
             "solidity": 0.2
            },
            "type": "scatter"
           }
          ],
          "scatter3d": [
           {
            "line": {
             "colorbar": {
              "outlinewidth": 0,
              "ticks": ""
             }
            },
            "marker": {
             "colorbar": {
              "outlinewidth": 0,
              "ticks": ""
             }
            },
            "type": "scatter3d"
           }
          ],
          "scattercarpet": [
           {
            "marker": {
             "colorbar": {
              "outlinewidth": 0,
              "ticks": ""
             }
            },
            "type": "scattercarpet"
           }
          ],
          "scattergeo": [
           {
            "marker": {
             "colorbar": {
              "outlinewidth": 0,
              "ticks": ""
             }
            },
            "type": "scattergeo"
           }
          ],
          "scattergl": [
           {
            "marker": {
             "colorbar": {
              "outlinewidth": 0,
              "ticks": ""
             }
            },
            "type": "scattergl"
           }
          ],
          "scattermap": [
           {
            "marker": {
             "colorbar": {
              "outlinewidth": 0,
              "ticks": ""
             }
            },
            "type": "scattermap"
           }
          ],
          "scattermapbox": [
           {
            "marker": {
             "colorbar": {
              "outlinewidth": 0,
              "ticks": ""
             }
            },
            "type": "scattermapbox"
           }
          ],
          "scatterpolar": [
           {
            "marker": {
             "colorbar": {
              "outlinewidth": 0,
              "ticks": ""
             }
            },
            "type": "scatterpolar"
           }
          ],
          "scatterpolargl": [
           {
            "marker": {
             "colorbar": {
              "outlinewidth": 0,
              "ticks": ""
             }
            },
            "type": "scatterpolargl"
           }
          ],
          "scatterternary": [
           {
            "marker": {
             "colorbar": {
              "outlinewidth": 0,
              "ticks": ""
             }
            },
            "type": "scatterternary"
           }
          ],
          "surface": [
           {
            "colorbar": {
             "outlinewidth": 0,
             "ticks": ""
            },
            "colorscale": [
             [
              0,
              "#0d0887"
             ],
             [
              0.1111111111111111,
              "#46039f"
             ],
             [
              0.2222222222222222,
              "#7201a8"
             ],
             [
              0.3333333333333333,
              "#9c179e"
             ],
             [
              0.4444444444444444,
              "#bd3786"
             ],
             [
              0.5555555555555556,
              "#d8576b"
             ],
             [
              0.6666666666666666,
              "#ed7953"
             ],
             [
              0.7777777777777778,
              "#fb9f3a"
             ],
             [
              0.8888888888888888,
              "#fdca26"
             ],
             [
              1,
              "#f0f921"
             ]
            ],
            "type": "surface"
           }
          ],
          "table": [
           {
            "cells": {
             "fill": {
              "color": "#EBF0F8"
             },
             "line": {
              "color": "white"
             }
            },
            "header": {
             "fill": {
              "color": "#C8D4E3"
             },
             "line": {
              "color": "white"
             }
            },
            "type": "table"
           }
          ]
         },
         "layout": {
          "annotationdefaults": {
           "arrowcolor": "#2a3f5f",
           "arrowhead": 0,
           "arrowwidth": 1
          },
          "autotypenumbers": "strict",
          "coloraxis": {
           "colorbar": {
            "outlinewidth": 0,
            "ticks": ""
           }
          },
          "colorscale": {
           "diverging": [
            [
             0,
             "#8e0152"
            ],
            [
             0.1,
             "#c51b7d"
            ],
            [
             0.2,
             "#de77ae"
            ],
            [
             0.3,
             "#f1b6da"
            ],
            [
             0.4,
             "#fde0ef"
            ],
            [
             0.5,
             "#f7f7f7"
            ],
            [
             0.6,
             "#e6f5d0"
            ],
            [
             0.7,
             "#b8e186"
            ],
            [
             0.8,
             "#7fbc41"
            ],
            [
             0.9,
             "#4d9221"
            ],
            [
             1,
             "#276419"
            ]
           ],
           "sequential": [
            [
             0,
             "#0d0887"
            ],
            [
             0.1111111111111111,
             "#46039f"
            ],
            [
             0.2222222222222222,
             "#7201a8"
            ],
            [
             0.3333333333333333,
             "#9c179e"
            ],
            [
             0.4444444444444444,
             "#bd3786"
            ],
            [
             0.5555555555555556,
             "#d8576b"
            ],
            [
             0.6666666666666666,
             "#ed7953"
            ],
            [
             0.7777777777777778,
             "#fb9f3a"
            ],
            [
             0.8888888888888888,
             "#fdca26"
            ],
            [
             1,
             "#f0f921"
            ]
           ],
           "sequentialminus": [
            [
             0,
             "#0d0887"
            ],
            [
             0.1111111111111111,
             "#46039f"
            ],
            [
             0.2222222222222222,
             "#7201a8"
            ],
            [
             0.3333333333333333,
             "#9c179e"
            ],
            [
             0.4444444444444444,
             "#bd3786"
            ],
            [
             0.5555555555555556,
             "#d8576b"
            ],
            [
             0.6666666666666666,
             "#ed7953"
            ],
            [
             0.7777777777777778,
             "#fb9f3a"
            ],
            [
             0.8888888888888888,
             "#fdca26"
            ],
            [
             1,
             "#f0f921"
            ]
           ]
          },
          "colorway": [
           "#636efa",
           "#EF553B",
           "#00cc96",
           "#ab63fa",
           "#FFA15A",
           "#19d3f3",
           "#FF6692",
           "#B6E880",
           "#FF97FF",
           "#FECB52"
          ],
          "font": {
           "color": "#2a3f5f"
          },
          "geo": {
           "bgcolor": "white",
           "lakecolor": "white",
           "landcolor": "#E5ECF6",
           "showlakes": true,
           "showland": true,
           "subunitcolor": "white"
          },
          "hoverlabel": {
           "align": "left"
          },
          "hovermode": "closest",
          "mapbox": {
           "style": "light"
          },
          "paper_bgcolor": "white",
          "plot_bgcolor": "#E5ECF6",
          "polar": {
           "angularaxis": {
            "gridcolor": "white",
            "linecolor": "white",
            "ticks": ""
           },
           "bgcolor": "#E5ECF6",
           "radialaxis": {
            "gridcolor": "white",
            "linecolor": "white",
            "ticks": ""
           }
          },
          "scene": {
           "xaxis": {
            "backgroundcolor": "#E5ECF6",
            "gridcolor": "white",
            "gridwidth": 2,
            "linecolor": "white",
            "showbackground": true,
            "ticks": "",
            "zerolinecolor": "white"
           },
           "yaxis": {
            "backgroundcolor": "#E5ECF6",
            "gridcolor": "white",
            "gridwidth": 2,
            "linecolor": "white",
            "showbackground": true,
            "ticks": "",
            "zerolinecolor": "white"
           },
           "zaxis": {
            "backgroundcolor": "#E5ECF6",
            "gridcolor": "white",
            "gridwidth": 2,
            "linecolor": "white",
            "showbackground": true,
            "ticks": "",
            "zerolinecolor": "white"
           }
          },
          "shapedefaults": {
           "line": {
            "color": "#2a3f5f"
           }
          },
          "ternary": {
           "aaxis": {
            "gridcolor": "white",
            "linecolor": "white",
            "ticks": ""
           },
           "baxis": {
            "gridcolor": "white",
            "linecolor": "white",
            "ticks": ""
           },
           "bgcolor": "#E5ECF6",
           "caxis": {
            "gridcolor": "white",
            "linecolor": "white",
            "ticks": ""
           }
          },
          "title": {
           "x": 0.05
          },
          "xaxis": {
           "automargin": true,
           "gridcolor": "white",
           "linecolor": "white",
           "ticks": "",
           "title": {
            "standoff": 15
           },
           "zerolinecolor": "white",
           "zerolinewidth": 2
          },
          "yaxis": {
           "automargin": true,
           "gridcolor": "white",
           "linecolor": "white",
           "ticks": "",
           "title": {
            "standoff": 15
           },
           "zerolinecolor": "white",
           "zerolinewidth": 2
          }
         }
        },
        "title": {
         "text": "3D Scatter Plot of Word Vectors for 'model'"
        },
        "width": 1000
       }
      }
     },
     "metadata": {},
     "output_type": "display_data"
    }
   ],
   "source": [
    "import umap\n",
    "\n",
    "# Reduce to 3 dimensions using UMAP\n",
    "reducer = umap.UMAP(n_components=3, random_state=42)\n",
    "reduced_data = reducer.fit_transform(wv[words])  # Use wv[words] instead of data\n",
    "\n",
    "\n",
    "colors = np.array([wv.similarity(center_word, word) for word in words])\n",
    "# Create a 3D scatter plot\n",
    "fig = go.Figure(data=[go.Scatter3d(\n",
    "    x=reduced_data[:, 0],\n",
    "    y=reduced_data[:, 1],\n",
    "    z=reduced_data[:, 2],\n",
    "    mode='markers+text',\n",
    "    marker=dict(\n",
    "        size=5,\n",
    "        color=colors,\n",
    "        colorscale='Plasma',\n",
    "        opacity=0.8\n",
    "    ),\n",
    "    text=words  # Add word labels\n",
    ")])\n",
    "\n",
    "fig.update_layout(\n",
    "    title=f\"3D Scatter Plot of Word Vectors for '{center_word}'\",\n",
    "    scene=dict(\n",
    "        xaxis_title='UMAP 1',\n",
    "        yaxis_title='UMAP 2',\n",
    "        zaxis_title='UMAP 3'\n",
    "    ),\n",
    "    coloraxis_colorbar=dict(\n",
    "        title=\"Similarity\",\n",
    "        thickness=20,\n",
    "        len=0.75,\n",
    "        x=1.1  # Position the colorbar slightly outside the plot\n",
    "    ),\n",
    "    width=1000,\n",
    "    height=800,\n",
    ")\n",
    "\n",
    "fig.show()"
   ]
  }
 ],
 "metadata": {
  "kernelspec": {
   "display_name": ".venv",
   "language": "python",
   "name": "python3"
  },
  "language_info": {
   "codemirror_mode": {
    "name": "ipython",
    "version": 3
   },
   "file_extension": ".py",
   "mimetype": "text/x-python",
   "name": "python",
   "nbconvert_exporter": "python",
   "pygments_lexer": "ipython3",
   "version": "3.11.7"
  }
 },
 "nbformat": 4,
 "nbformat_minor": 5
}
